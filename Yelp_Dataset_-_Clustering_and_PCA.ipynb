{
 "cells": [
  {
   "cell_type": "markdown",
   "metadata": {},
   "source": [
    "# Yelp Data Challenge - Clustering and PCA\n",
    "\n",
    "BitTiger DS501\n",
    "\n",
    "Jun 2017"
   ]
  },
  {
   "cell_type": "code",
   "execution_count": 19,
   "metadata": {
    "collapsed": true
   },
   "outputs": [],
   "source": [
    "import pandas as pd\n",
    "import numpy as np\n",
    "import matplotlib.pyplot as plt\n",
    "% matplotlib inline\n",
    "plt.style.use(\"ggplot\")"
   ]
  },
  {
   "cell_type": "code",
   "execution_count": 20,
   "metadata": {
    "collapsed": true
   },
   "outputs": [],
   "source": [
    "df = pd.read_csv('data/last_2_years_restaurant_reviews.csv')"
   ]
  },
  {
   "cell_type": "code",
   "execution_count": 21,
   "metadata": {
    "collapsed": false
   },
   "outputs": [
    {
     "data": {
      "text/html": [
       "<div>\n",
       "<style>\n",
       "    .dataframe thead tr:only-child th {\n",
       "        text-align: right;\n",
       "    }\n",
       "\n",
       "    .dataframe thead th {\n",
       "        text-align: left;\n",
       "    }\n",
       "\n",
       "    .dataframe tbody tr th {\n",
       "        vertical-align: top;\n",
       "    }\n",
       "</style>\n",
       "<table border=\"1\" class=\"dataframe\">\n",
       "  <thead>\n",
       "    <tr style=\"text-align: right;\">\n",
       "      <th></th>\n",
       "      <th>business_id</th>\n",
       "      <th>name</th>\n",
       "      <th>categories</th>\n",
       "      <th>avg_stars</th>\n",
       "      <th>cool</th>\n",
       "      <th>date</th>\n",
       "      <th>funny</th>\n",
       "      <th>review_id</th>\n",
       "      <th>stars</th>\n",
       "      <th>text</th>\n",
       "      <th>type</th>\n",
       "      <th>useful</th>\n",
       "      <th>user_id</th>\n",
       "      <th>count</th>\n",
       "    </tr>\n",
       "  </thead>\n",
       "  <tbody>\n",
       "    <tr>\n",
       "      <th>0</th>\n",
       "      <td>--9e1ONYQuAa-CB_Rrw7Tw</td>\n",
       "      <td>Delmonico Steakhouse</td>\n",
       "      <td>[Steakhouses, Restaurants, Cajun/Creole]</td>\n",
       "      <td>4.0</td>\n",
       "      <td>0</td>\n",
       "      <td>2015-06-26</td>\n",
       "      <td>0</td>\n",
       "      <td>nCqdz-NW64KazpxqnDr0sQ</td>\n",
       "      <td>1</td>\n",
       "      <td>I mainly went for the ceasar salad prepared ta...</td>\n",
       "      <td>review</td>\n",
       "      <td>0</td>\n",
       "      <td>0XVzm4kVIAaH4eQAxWbhvw</td>\n",
       "      <td>318</td>\n",
       "    </tr>\n",
       "    <tr>\n",
       "      <th>1</th>\n",
       "      <td>--9e1ONYQuAa-CB_Rrw7Tw</td>\n",
       "      <td>Delmonico Steakhouse</td>\n",
       "      <td>[Steakhouses, Restaurants, Cajun/Creole]</td>\n",
       "      <td>4.0</td>\n",
       "      <td>0</td>\n",
       "      <td>2015-06-29</td>\n",
       "      <td>0</td>\n",
       "      <td>iwx6s6yQxc7yjS7NFANZig</td>\n",
       "      <td>4</td>\n",
       "      <td>Nice atmosphere and wonderful service. I had t...</td>\n",
       "      <td>review</td>\n",
       "      <td>0</td>\n",
       "      <td>2aeNFntqY2QDZLADNo8iQQ</td>\n",
       "      <td>318</td>\n",
       "    </tr>\n",
       "  </tbody>\n",
       "</table>\n",
       "</div>"
      ],
      "text/plain": [
       "              business_id                  name  \\\n",
       "0  --9e1ONYQuAa-CB_Rrw7Tw  Delmonico Steakhouse   \n",
       "1  --9e1ONYQuAa-CB_Rrw7Tw  Delmonico Steakhouse   \n",
       "\n",
       "                                 categories  avg_stars  cool        date  \\\n",
       "0  [Steakhouses, Restaurants, Cajun/Creole]        4.0     0  2015-06-26   \n",
       "1  [Steakhouses, Restaurants, Cajun/Creole]        4.0     0  2015-06-29   \n",
       "\n",
       "   funny               review_id  stars  \\\n",
       "0      0  nCqdz-NW64KazpxqnDr0sQ      1   \n",
       "1      0  iwx6s6yQxc7yjS7NFANZig      4   \n",
       "\n",
       "                                                text    type  useful  \\\n",
       "0  I mainly went for the ceasar salad prepared ta...  review       0   \n",
       "1  Nice atmosphere and wonderful service. I had t...  review       0   \n",
       "\n",
       "                  user_id  count  \n",
       "0  0XVzm4kVIAaH4eQAxWbhvw    318  \n",
       "1  2aeNFntqY2QDZLADNo8iQQ    318  "
      ]
     },
     "execution_count": 21,
     "metadata": {},
     "output_type": "execute_result"
    }
   ],
   "source": [
    "df.head(2)"
   ]
  },
  {
   "cell_type": "markdown",
   "metadata": {},
   "source": [
    "## 1. Cluster the review text data for all the restaurants"
   ]
  },
  {
   "cell_type": "markdown",
   "metadata": {},
   "source": [
    "### Define your feature variables, here is the text of the review"
   ]
  },
  {
   "cell_type": "code",
   "execution_count": 22,
   "metadata": {
    "collapsed": false
   },
   "outputs": [
    {
     "data": {
      "text/plain": [
       "(348016,)"
      ]
     },
     "execution_count": 22,
     "metadata": {},
     "output_type": "execute_result"
    }
   ],
   "source": [
    "# Take the values of the column that contains review text data, save to a variable named \"documents\"\n",
    "documents = df['text'].values\n",
    "documents.shape"
   ]
  },
  {
   "cell_type": "markdown",
   "metadata": {},
   "source": [
    "### Define your target variable (any categorical variable that may be meaningful)"
   ]
  },
  {
   "cell_type": "markdown",
   "metadata": {},
   "source": [
    "#### For example, I am interested in perfect (5 stars) and imperfect (1-4 stars) rating"
   ]
  },
  {
   "cell_type": "code",
   "execution_count": 23,
   "metadata": {
    "collapsed": false
   },
   "outputs": [
    {
     "data": {
      "text/plain": [
       "(348016,)"
      ]
     },
     "execution_count": 23,
     "metadata": {},
     "output_type": "execute_result"
    }
   ],
   "source": [
    "# Make a column and take the values, save to a variable named \"target\"\n",
    "target = (df['stars'] == 5).astype(int).values\n",
    "target.shape"
   ]
  },
  {
   "cell_type": "markdown",
   "metadata": {},
   "source": [
    "#### You may want to look at the statistic of the target variable"
   ]
  },
  {
   "cell_type": "code",
   "execution_count": 24,
   "metadata": {
    "collapsed": false
   },
   "outputs": [
    {
     "name": "stdout",
     "output_type": "stream",
     "text": [
      "statistics of the target variable\n",
      "median value: 0.000000\n",
      "mean value: 0.460668\n",
      "standard deviation value: 0.498451\n"
     ]
    }
   ],
   "source": [
    "# To be implemented\n",
    "print('statistics of the target variable')\n",
    "print('median value: %f' % (np.median(target)))\n",
    "print('mean value: %f' % (np.mean(target)))\n",
    "print('standard deviation value: %f' % (np.std(target)))"
   ]
  },
  {
   "cell_type": "markdown",
   "metadata": {},
   "source": [
    "### Create training dataset and test dataset"
   ]
  },
  {
   "cell_type": "code",
   "execution_count": 25,
   "metadata": {
    "collapsed": false
   },
   "outputs": [],
   "source": [
    "from sklearn.model_selection import train_test_split"
   ]
  },
  {
   "cell_type": "code",
   "execution_count": 26,
   "metadata": {
    "collapsed": true
   },
   "outputs": [],
   "source": [
    "# documents is your X, target is your y\n",
    "# Now split the data to training set and test set\n",
    "# You may want to start with a big \"test_size\", since large training set can easily crash your laptop.\n",
    "x_train, x_test, y_train, y_test = train_test_split(documents, target, test_size = 0.8, random_state = 0)"
   ]
  },
  {
   "cell_type": "markdown",
   "metadata": {},
   "source": [
    "### Get NLP representation of the documents\n",
    "\n",
    "#### Fit TfidfVectorizer with training data only, then tranform all the data to tf-idf"
   ]
  },
  {
   "cell_type": "code",
   "execution_count": 27,
   "metadata": {
    "collapsed": true
   },
   "outputs": [],
   "source": [
    "from sklearn.feature_extraction.text import TfidfVectorizer\n",
    "import nltk\n",
    "from nltk.tokenize import word_tokenize\n",
    "from nltk.corpus import stopwords"
   ]
  },
  {
   "cell_type": "code",
   "execution_count": 28,
   "metadata": {
    "collapsed": true
   },
   "outputs": [],
   "source": [
    "# Create TfidfVectorizer, and name it vectorizer, choose a reasonable max_features, e.g. 1000\n",
    "vectorizer = TfidfVectorizer(stop_words = 'english', max_features = 2000)"
   ]
  },
  {
   "cell_type": "code",
   "execution_count": 29,
   "metadata": {
    "collapsed": true
   },
   "outputs": [],
   "source": [
    "# Train the model with your training data\n",
    "train_vector = vectorizer.fit_transform(x_train).toarray()"
   ]
  },
  {
   "cell_type": "code",
   "execution_count": 30,
   "metadata": {
    "collapsed": false
   },
   "outputs": [],
   "source": [
    "# Get the vocab of your tfidf\n",
    "vocab = vectorizer.get_feature_names()"
   ]
  },
  {
   "cell_type": "code",
   "execution_count": 31,
   "metadata": {
    "collapsed": true
   },
   "outputs": [],
   "source": [
    "# Use the trained model to transform all the reviews\n",
    "# transformed trained model => train_vector\n",
    "# transformed test model => test_vector\n",
    "test_vector = vectorizer.transform(x_test)"
   ]
  },
  {
   "cell_type": "code",
   "execution_count": 32,
   "metadata": {
    "collapsed": false
   },
   "outputs": [
    {
     "name": "stdout",
     "output_type": "stream",
     "text": [
      "shape of trainsformed training data: (69603, 2000)\n",
      "shape of trainsformed testing data: (278413, 2000)\n"
     ]
    }
   ],
   "source": [
    "print 'shape of trainsformed training data:', train_vector.shape\n",
    "print 'shape of trainsformed testing data:', test_vector.shape"
   ]
  },
  {
   "cell_type": "markdown",
   "metadata": {},
   "source": [
    "### Cluster reviews with KMeans"
   ]
  },
  {
   "cell_type": "markdown",
   "metadata": {},
   "source": [
    "#### Fit k-means clustering with the training vectors and apply it on all the data"
   ]
  },
  {
   "cell_type": "code",
   "execution_count": 33,
   "metadata": {
    "collapsed": true
   },
   "outputs": [],
   "source": [
    "from sklearn.cluster import KMeans\n",
    "from sklearn.metrics import silhouette_score\n",
    "from scipy.spatial.distance import euclidean"
   ]
  },
  {
   "cell_type": "code",
   "execution_count": 34,
   "metadata": {
    "collapsed": false
   },
   "outputs": [
    {
     "data": {
      "text/plain": [
       "\"\\nSSE_List = []\\nSilhouette_List = []\\ncluster_choices = [5,10,20,40]\\nfor i in cluster_choices:\\n    print('%d center cluster is complete' % (i))\\n    kmeans = KMeans(n_clusters=i, random_state=0).fit(train_vector)\\n    SSE_List.append(kmeans.inertia_)\\n    Silhouette_List.append(silhouette_score(train_vector, kmeans.labels_))\\n\""
      ]
     },
     "execution_count": 34,
     "metadata": {},
     "output_type": "execute_result"
    }
   ],
   "source": [
    "# choose the best K\n",
    "\"\"\"\n",
    "SSE_List = []\n",
    "Silhouette_List = []\n",
    "cluster_choices = [5,10,20,40]\n",
    "for i in cluster_choices:\n",
    "    print('%d center cluster is complete' % (i))\n",
    "    kmeans = KMeans(n_clusters=i, random_state=0).fit(train_vector)\n",
    "    SSE_List.append(kmeans.inertia_)\n",
    "    Silhouette_List.append(silhouette_score(train_vector, kmeans.labels_))\n",
    "\"\"\""
   ]
  },
  {
   "cell_type": "code",
   "execution_count": 35,
   "metadata": {
    "collapsed": false
   },
   "outputs": [
    {
     "data": {
      "text/plain": [
       "\"\\nplt.subplot(211)\\nplt.plot(cluster_choices, SSE_List)\\nplt.ylabel('SSE')\\nplt.subplot(212)\\nplt.plot(cluster_choices, Silhouette_List)\\nplt.ylabel('Silhouette')\\nplt.show()\\n\""
      ]
     },
     "execution_count": 35,
     "metadata": {},
     "output_type": "execute_result"
    }
   ],
   "source": [
    "# plot the SSE and Silhouette metric results\n",
    "\"\"\"\n",
    "plt.subplot(211)\n",
    "plt.plot(cluster_choices, SSE_List)\n",
    "plt.ylabel('SSE')\n",
    "plt.subplot(212)\n",
    "plt.plot(cluster_choices, Silhouette_List)\n",
    "plt.ylabel('Silhouette')\n",
    "plt.show()\n",
    "\"\"\""
   ]
  },
  {
   "cell_type": "markdown",
   "metadata": {},
   "source": [
    "#### Make predictions on all your data"
   ]
  },
  {
   "cell_type": "code",
   "execution_count": 36,
   "metadata": {
    "collapsed": false
   },
   "outputs": [
    {
     "data": {
      "text/plain": [
       "KMeans(algorithm='auto', copy_x=True, init='k-means++', max_iter=300,\n",
       "    n_clusters=20, n_init=10, n_jobs=1, precompute_distances='auto',\n",
       "    random_state=42, tol=0.0001, verbose=0)"
      ]
     },
     "execution_count": 36,
     "metadata": {},
     "output_type": "execute_result"
    }
   ],
   "source": [
    "kmeans = KMeans(n_clusters = 20, random_state=42)\n",
    "kmeans.fit(train_vector)"
   ]
  },
  {
   "cell_type": "code",
   "execution_count": 37,
   "metadata": {
    "collapsed": true
   },
   "outputs": [],
   "source": [
    "# To be implemented\n",
    "doc_vector = vectorizer.fit_transform(documents).toarray()\n",
    "target_pred = kmeans.predict(doc_vector)"
   ]
  },
  {
   "cell_type": "markdown",
   "metadata": {},
   "source": [
    "#### Inspect the centroids\n",
    "To find out what \"topics\" Kmeans has discovered we must inspect the centroids. Print out the centroids of the Kmeans clustering.\n",
    "\n",
    "   These centroids are simply a bunch of vectors.  To make any sense of them we need to map these vectors back into our 'word space'.  Think of each feature/dimension of the centroid vector as representing the \"average\" review or the average occurances of words for that cluster."
   ]
  },
  {
   "cell_type": "code",
   "execution_count": 38,
   "metadata": {
    "collapsed": true
   },
   "outputs": [],
   "source": [
    "# To be implemented\n",
    "def get_top_values(lst, n, labels):\n",
    "    '''\n",
    "    INPUT: LIST, INTEGER, LIST\n",
    "    OUTPUT: LIST\n",
    "\n",
    "    Given a list of values, find the indices with the highest n values.\n",
    "    Return the labels for each of these indices.\n",
    "\n",
    "    e.g.\n",
    "    lst = [7, 3, 2, 4, 1]\n",
    "    n = 2\n",
    "    labels = [\"cat\", \"dog\", \"mouse\", \"pig\", \"rabbit\"]\n",
    "    output: [\"cat\", \"pig\"]\n",
    "    '''\n",
    "    return [labels[i] for i in np.argsort(lst)[::-1][:n]]  # np.argsort by default sorts values in ascending order\n"
   ]
  },
  {
   "cell_type": "markdown",
   "metadata": {},
   "source": [
    "#### Find the top 10 features for each cluster.\n",
    "For topics we are only really interested in the most present words, i.e. features/dimensions with the greatest representation in the centroid.  Print out the top ten words for each centroid.\n",
    "\n",
    "* Sort each centroid vector to find the top 10 features\n",
    "* Go back to your vectorizer object to find out what words each of these features corresponds to.\n"
   ]
  },
  {
   "cell_type": "code",
   "execution_count": 39,
   "metadata": {
    "collapsed": false,
    "scrolled": true
   },
   "outputs": [
    {
     "name": "stdout",
     "output_type": "stream",
     "text": [
      "0 center has the top prominent words:\n",
      "[u'ordered', u'like', u'good', u'sauce', u'just', u'food', u'place', u'got', u'cheese', u'meat']\n",
      "1 center has the top prominent words:\n",
      "[u'steak', u'good', u'great', u'ordered', u'service', u'food', u'place', u'cooked', u'best', u'medium']\n",
      "2 center has the top prominent words:\n",
      "[u'great', u'food', u'service', u'place', u'amazing', u'awesome', u'atmosphere', u'staff', u'friendly', u'definitely']\n",
      "3 center has the top prominent words:\n",
      "[u'good', u'food', u'service', u'really', u'place', u'nice', u'pretty', u'great', u'time', u'like']\n",
      "4 center has the top prominent words:\n",
      "[u'vegas', u'best', u'las', u'food', u'place', u've', u'amazing', u'service', u'great', u'time']\n",
      "5 center has the top prominent words:\n",
      "[u'pho', u'broth', u'good', u'place', u'rolls', u'vietnamese', u'spring', u'service', u'food', u'great']\n",
      "6 center has the top prominent words:\n",
      "[u'sushi', u'rolls', u'place', u'roll', u'ayce', u'great', u'fresh', u'fish', u'good', u'eat']\n",
      "7 center has the top prominent words:\n",
      "[u'food', u'place', u'service', u'amazing', u'just', u'time', u'like', u'delicious', u'staff', u'friendly']\n",
      "8 center has the top prominent words:\n",
      "[u'prices', u'reasonable', u'food', u'great', u'good', u'place', u'service', u'friendly', u'high', u'staff']\n",
      "9 center has the top prominent words:\n",
      "[u'buffet', u'food', u'good', u'buffets', u'crab', u'selection', u'vegas', u'legs', u'price', u'seafood']\n",
      "10 center has the top prominent words:\n",
      "[u'love', u'place', u'food', u'great', u'service', u'amazing', u'friendly', u'good', u'staff', u'delicious']\n",
      "11 center has the top prominent words:\n",
      "[u'thai', u'pad', u'food', u'curry', u'place', u'good', u'chicken', u'rice', u'restaurant', u'great']\n",
      "12 center has the top prominent words:\n",
      "[u'tacos', u'taco', u'asada', u'good', u'mexican', u'food', u'salsa', u'carne', u'fish', u'great']\n",
      "13 center has the top prominent words:\n",
      "[u'breakfast', u'eggs', u'great', u'place', u'good', u'food', u'pancakes', u'coffee', u'service', u'toast']\n",
      "14 center has the top prominent words:\n",
      "[u'burger', u'fries', u'burgers', u'good', u'cheese', u'shake', u'place', u'food', u'great', u'just']\n",
      "15 center has the top prominent words:\n",
      "[u'ramen', u'broth', u'noodles', u'place', u'good', u'miso', u'spicy', u'great', u'pork', u'bowl']\n",
      "16 center has the top prominent words:\n",
      "[u'lobster', u'roll', u'good', u'great', u'bisque', u'food', u'crab', u'shrimp', u'service', u'delicious']\n",
      "17 center has the top prominent words:\n",
      "[u'pizza', u'crust', u'good', u'place', u'great', u'cheese', u'pepperoni', u'just', u'best', u'slice']\n",
      "18 center has the top prominent words:\n",
      "[u'chicken', u'fried', u'food', u'good', u'place', u'ordered', u'rice', u'great', u'salad', u'waffles']\n",
      "19 center has the top prominent words:\n",
      "[u'order', u'minutes', u'food', u'service', u'time', u'asked', u'said', u'came', u'table', u'just']\n"
     ]
    }
   ],
   "source": [
    "# To be implemented\n",
    "n = 10\n",
    "for index, point in enumerate(kmeans.cluster_centers_):\n",
    "    print('%d center has the top prominent words:' % (index))\n",
    "    print(get_top_values(point, n, vocab))"
   ]
  },
  {
   "cell_type": "markdown",
   "metadata": {},
   "source": [
    "#### Try different k\n",
    "If you set k == to a different number, how does the top features change?"
   ]
  },
  {
   "cell_type": "code",
   "execution_count": 40,
   "metadata": {
    "collapsed": false,
    "scrolled": true
   },
   "outputs": [
    {
     "name": "stdout",
     "output_type": "stream",
     "text": [
      "0 center has the top n prominent words:\n",
      "[u'sushi', u'rolls', u'roll', u'place', u'ayce', u'great', u'fresh', u'good', u'fish', u'service']\n",
      "1 center has the top n prominent words:\n",
      "[u'chicken', u'fried', u'good', u'rice', u'food', u'thai', u'ordered', u'place', u'sauce', u'great']\n",
      "2 center has the top n prominent words:\n",
      "[u'burger', u'fries', u'burgers', u'good', u'cheese', u'shake', u'place', u'food', u'great', u'ordered']\n",
      "3 center has the top n prominent words:\n",
      "[u'pizza', u'crust', u'good', u'place', u'great', u'cheese', u'best', u'just', u'pepperoni', u'slice']\n",
      "4 center has the top n prominent words:\n",
      "[u'food', u'order', u'minutes', u'time', u'service', u'just', u'came', u'table', u'asked', u'said']\n",
      "5 center has the top n prominent words:\n",
      "[u'great', u'food', u'service', u'place', u'good', u'friendly', u'awesome', u'atmosphere', u'staff', u'definitely']\n",
      "6 center has the top n prominent words:\n",
      "[u'love', u'place', u'food', u'great', u'service', u'good', u'amazing', u'friendly', u'delicious', u'staff']\n",
      "7 center has the top n prominent words:\n",
      "[u'best', u'vegas', u'amazing', u'food', u'place', u'las', u'service', u've', u'time', u'definitely']\n",
      "8 center has the top n prominent words:\n",
      "[u'buffet', u'food', u'good', u'buffets', u'vegas', u'crab', u'selection', u'legs', u'price', u'station']\n",
      "9 center has the top n prominent words:\n",
      "[u'good', u'food', u'place', u'like', u'service', u'really', u'just', u'nice', u'delicious', u'ordered']\n"
     ]
    }
   ],
   "source": [
    "# To be implemented\n",
    "kmeans = KMeans(n_clusters = 10, random_state=42)\n",
    "kmeans.fit(train_vector)\n",
    "target_pred = kmeans.predict(doc_vector)\n",
    "for index, point in enumerate(kmeans.cluster_centers_):\n",
    "    print('%d center has the top n prominent words:' % (index))\n",
    "    print(get_top_values(point, n, vocab))"
   ]
  },
  {
   "cell_type": "markdown",
   "metadata": {},
   "source": [
    "The words are quite similar to each other"
   ]
  },
  {
   "cell_type": "markdown",
   "metadata": {},
   "source": [
    "#### Print out the rating and review of a random sample of the reviews assigned to each cluster to get a sense of the cluster."
   ]
  },
  {
   "cell_type": "code",
   "execution_count": 41,
   "metadata": {
    "collapsed": false
   },
   "outputs": [
    {
     "name": "stdout",
     "output_type": "stream",
     "text": [
      "chosen review:\n",
      "The strip steak was to die for! The banana desert was absolutely genius. Our server (forgot her name) was fantastic! My hubby's rib eye was good! We will be going back!\n",
      "chosen rating:\n",
      "0\n",
      "top n prominent words:\n",
      "[u'good', u'food', u'place', u'like', u'service', u'really', u'just', u'nice', u'delicious', u'ordered']\n"
     ]
    }
   ],
   "source": [
    "# To be implemented\n",
    "rand_index = 42\n",
    "print('chosen review:')\n",
    "print(documents[rand_index])\n",
    "print('chosen rating:')\n",
    "print(target[rand_index])\n",
    "print('top n prominent words:')\n",
    "print(get_top_values(kmeans.cluster_centers_[target_pred[rand_index]], n, vocab))\n"
   ]
  },
  {
   "cell_type": "markdown",
   "metadata": {},
   "source": [
    "## 2. Cluster all the reviews of the most reviewed restaurant\n",
    "Let's find the most reviewed restaurant and analyze its reviews"
   ]
  },
  {
   "cell_type": "code",
   "execution_count": 42,
   "metadata": {
    "collapsed": false
   },
   "outputs": [
    {
     "data": {
      "text/plain": [
       "4015"
      ]
     },
     "execution_count": 42,
     "metadata": {},
     "output_type": "execute_result"
    }
   ],
   "source": [
    "# Find the business who got most reviews, get your filtered df, name it df_top_restaurant\n",
    "max_count = np.max(df['count'])\n",
    "max_count"
   ]
  },
  {
   "cell_type": "code",
   "execution_count": 43,
   "metadata": {
    "collapsed": false
   },
   "outputs": [
    {
     "data": {
      "text/plain": [
       "array(['hihud--QRriCYZw1zZvW4g'], dtype=object)"
      ]
     },
     "execution_count": 43,
     "metadata": {},
     "output_type": "execute_result"
    }
   ],
   "source": [
    "business_id = df[df['count'] == max_count]['business_id'].unique()\n",
    "business_id"
   ]
  },
  {
   "cell_type": "code",
   "execution_count": 44,
   "metadata": {
    "collapsed": true
   },
   "outputs": [],
   "source": [
    "df_top_restaurant = df[df['business_id'] == business_id[0]]"
   ]
  },
  {
   "cell_type": "markdown",
   "metadata": {},
   "source": [
    "We can also load restaurant profile information from the business dataset (optional)"
   ]
  },
  {
   "cell_type": "code",
   "execution_count": 45,
   "metadata": {
    "collapsed": true
   },
   "outputs": [],
   "source": [
    "# Load business dataset (optional)\n",
    "# Take a look at the most reviewed restaurant's profile (optional)\n",
    "pass"
   ]
  },
  {
   "cell_type": "markdown",
   "metadata": {},
   "source": [
    "### Vectorize the text feature"
   ]
  },
  {
   "cell_type": "code",
   "execution_count": 46,
   "metadata": {
    "collapsed": false
   },
   "outputs": [
    {
     "data": {
      "text/plain": [
       "(4015,)"
      ]
     },
     "execution_count": 46,
     "metadata": {},
     "output_type": "execute_result"
    }
   ],
   "source": [
    "# Take the values of the column that contains review text data, save to a variable named \"documents_top_restaurant\"\n",
    "documents_top_restaurant = df_top_restaurant['text'].values\n",
    "documents_top_restaurant.shape\n"
   ]
  },
  {
   "cell_type": "markdown",
   "metadata": {},
   "source": [
    "### Define your target variable (for later classification use)"
   ]
  },
  {
   "cell_type": "markdown",
   "metadata": {},
   "source": [
    "#### Again, we look at perfect (5 stars) and imperfect (1-4 stars) rating"
   ]
  },
  {
   "cell_type": "code",
   "execution_count": 47,
   "metadata": {
    "collapsed": false
   },
   "outputs": [
    {
     "data": {
      "text/plain": [
       "(4015,)"
      ]
     },
     "execution_count": 47,
     "metadata": {},
     "output_type": "execute_result"
    }
   ],
   "source": [
    "# To be implemented\n",
    "target_top_restaurant = (df_top_restaurant['stars'] == 5).astype(int).values\n",
    "target_top_restaurant.shape"
   ]
  },
  {
   "cell_type": "markdown",
   "metadata": {},
   "source": [
    "#### Check the statistic of the target variable"
   ]
  },
  {
   "cell_type": "code",
   "execution_count": 48,
   "metadata": {
    "collapsed": false
   },
   "outputs": [
    {
     "name": "stdout",
     "output_type": "stream",
     "text": [
      "statistics of the target variable\n",
      "median value: 1.000000\n",
      "mean value: 0.764633\n",
      "standard deviation value: 0.424228\n"
     ]
    }
   ],
   "source": [
    "# To be implemented\n",
    "print('statistics of the target variable')\n",
    "print('median value: %f' % (np.median(target_top_restaurant)))\n",
    "print('mean value: %f' % (np.mean(target_top_restaurant)))\n",
    "print('standard deviation value: %f' % (np.std(target_top_restaurant)))"
   ]
  },
  {
   "cell_type": "markdown",
   "metadata": {},
   "source": [
    "### Create training dataset and test dataset"
   ]
  },
  {
   "cell_type": "code",
   "execution_count": 49,
   "metadata": {
    "collapsed": false
   },
   "outputs": [],
   "source": [
    "from sklearn.model_selection import train_test_split"
   ]
  },
  {
   "cell_type": "code",
   "execution_count": 50,
   "metadata": {
    "collapsed": false
   },
   "outputs": [],
   "source": [
    "# documents_top_restaurant is your X, target_top_restaurant is your y\n",
    "# Now split the data to training set and test set\n",
    "# Now your data is smaller, you can use a typical \"test_size\", e.g. 0.3-0.7\n",
    "x_train, x_test, y_train, y_test = train_test_split(documents_top_restaurant, target_top_restaurant, test_size = 0.3, random_state = 0)"
   ]
  },
  {
   "cell_type": "markdown",
   "metadata": {},
   "source": [
    "### Get NLP representation of the documents"
   ]
  },
  {
   "cell_type": "code",
   "execution_count": 51,
   "metadata": {
    "collapsed": true
   },
   "outputs": [],
   "source": [
    "from sklearn.feature_extraction.text import TfidfVectorizer"
   ]
  },
  {
   "cell_type": "code",
   "execution_count": 52,
   "metadata": {
    "collapsed": false
   },
   "outputs": [],
   "source": [
    "# Create TfidfVectorizer, and name it vectorizer\n",
    "vectorizer_top = TfidfVectorizer(stop_words = 'english', max_features = 2000)"
   ]
  },
  {
   "cell_type": "code",
   "execution_count": 53,
   "metadata": {
    "collapsed": true
   },
   "outputs": [],
   "source": [
    "# Train the model with your training data\n",
    "train_vector_top = vectorizer_top.fit_transform(x_train).toarray()"
   ]
  },
  {
   "cell_type": "code",
   "execution_count": 54,
   "metadata": {
    "collapsed": true
   },
   "outputs": [],
   "source": [
    "# Get the vocab of your tfidf\n",
    "vocab_top = vectorizer_top.get_feature_names()"
   ]
  },
  {
   "cell_type": "code",
   "execution_count": 55,
   "metadata": {
    "collapsed": true
   },
   "outputs": [],
   "source": [
    "# Use the trained model to transform the test data\n",
    "test_vector_top = vectorizer_top.transform(x_test).toarray()"
   ]
  },
  {
   "cell_type": "code",
   "execution_count": 56,
   "metadata": {
    "collapsed": true
   },
   "outputs": [],
   "source": [
    "# Use the trained model to transform all the data\n",
    "doc_vector_top = vectorizer_top.transform(documents_top_restaurant).toarray()"
   ]
  },
  {
   "cell_type": "markdown",
   "metadata": {},
   "source": [
    "### Cluster reviews with KMeans"
   ]
  },
  {
   "cell_type": "markdown",
   "metadata": {},
   "source": [
    "#### Fit k-means clustering on the training vectors and make predictions on all data"
   ]
  },
  {
   "cell_type": "code",
   "execution_count": 57,
   "metadata": {
    "collapsed": false
   },
   "outputs": [
    {
     "data": {
      "text/plain": [
       "KMeans(algorithm='auto', copy_x=True, init='k-means++', max_iter=300,\n",
       "    n_clusters=20, n_init=10, n_jobs=1, precompute_distances='auto',\n",
       "    random_state=42, tol=0.0001, verbose=0)"
      ]
     },
     "execution_count": 57,
     "metadata": {},
     "output_type": "execute_result"
    }
   ],
   "source": [
    "# To be implemented\n",
    "kmeans = KMeans(n_clusters = 20, random_state=42)\n",
    "kmeans.fit(train_vector_top)"
   ]
  },
  {
   "cell_type": "markdown",
   "metadata": {},
   "source": [
    "#### Make predictions on all your data"
   ]
  },
  {
   "cell_type": "code",
   "execution_count": 58,
   "metadata": {
    "collapsed": true
   },
   "outputs": [],
   "source": [
    "# To be implemented\n",
    "target_labels = kmeans.predict(doc_vector_top)"
   ]
  },
  {
   "cell_type": "markdown",
   "metadata": {},
   "source": [
    "#### Inspect the centroids"
   ]
  },
  {
   "cell_type": "code",
   "execution_count": 59,
   "metadata": {
    "collapsed": false,
    "scrolled": true
   },
   "outputs": [
    {
     "name": "stdout",
     "output_type": "stream",
     "text": [
      "0 center: \n",
      "[  1.40946282e-18   1.56125113e-17   4.99801825e-03 ...,   1.30104261e-18\n",
      "   0.00000000e+00   8.67361738e-19]\n",
      "1 center: \n",
      "[  2.16840434e-19   5.00937231e-03  -1.95156391e-18 ...,   1.45187767e-03\n",
      "   0.00000000e+00   9.75781955e-19]\n",
      "2 center: \n",
      "[  8.61280755e-04   1.14603344e-02   8.81826599e-04 ...,   1.62630326e-18\n",
      "   0.00000000e+00   9.75781955e-19]\n",
      "3 center: \n",
      "[ -4.01154804e-18   1.15319126e-03  -1.95156391e-18 ...,   1.77108012e-03\n",
      "   1.78893358e-18   1.90187997e-03]\n",
      "4 center: \n",
      "[  2.35020877e-03   1.40436555e-02   1.62503074e-03 ...,   2.61653260e-03\n",
      "   1.14663367e-03  -3.25260652e-18]\n",
      "5 center: \n",
      "[  1.51788304e-18   2.87079580e-03   1.94707403e-03 ...,   9.71807657e-04\n",
      "   0.00000000e+00   4.78826105e-03]\n",
      "6 center: \n",
      "[  1.40946282e-18   5.13578845e-03  -1.73472348e-18 ...,   1.40946282e-18\n",
      "   0.00000000e+00   8.67361738e-19]\n",
      "7 center: \n",
      "[  2.72178900e-03   1.01285846e-03   2.12413755e-03 ...,   6.50521303e-19\n",
      "   0.00000000e+00   7.58941521e-19]\n",
      "8 center: \n",
      "[  4.14350916e-03   8.23117335e-03   2.16967488e-03 ...,   7.58941521e-19\n",
      "   0.00000000e+00   2.42693649e-03]\n",
      "9 center: \n",
      "[  1.19262239e-18   3.28736429e-03  -1.51788304e-18 ...,   9.75781955e-19\n",
      "   0.00000000e+00   8.67361738e-19]\n",
      "10 center: \n",
      "[  1.30104261e-18   3.83946108e-03  -1.73472348e-18 ...,   1.08420217e-18\n",
      "   0.00000000e+00   8.67361738e-19]\n",
      "11 center: \n",
      "[ -1.40946282e-18   3.08122800e-03  -1.73472348e-18 ...,   1.73472348e-18\n",
      "   5.42101086e-20   9.75781955e-19]\n",
      "12 center: \n",
      "[  8.67361738e-19   7.35162010e-03   6.12071818e-03 ...,   5.42101086e-19\n",
      "   0.00000000e+00   6.50521303e-19]\n",
      "13 center: \n",
      "[ -3.25260652e-19  -1.73472348e-18   1.49360200e-02 ...,  -4.33680869e-19\n",
      "   0.00000000e+00  -3.25260652e-19]\n",
      "14 center: \n",
      "[  1.19262239e-18   2.85642789e-03  -1.95156391e-18 ...,   1.51788304e-18\n",
      "   0.00000000e+00   9.75781955e-19]\n",
      "15 center: \n",
      "[  2.86154762e-03   5.70486937e-03   4.09193793e-03 ...,   1.73472348e-18\n",
      "   1.88589477e-03   9.75781955e-19]\n",
      "16 center: \n",
      "[  2.84467956e-03   1.38777878e-17  -1.73472348e-18 ...,   1.08420217e-18\n",
      "   0.00000000e+00   7.58941521e-19]\n",
      "17 center: \n",
      "[  1.30104261e-18   3.78247889e-03  -1.73472348e-18 ...,   1.08420217e-18\n",
      "   1.74293595e-03   8.67361738e-19]\n",
      "18 center: \n",
      "[  1.19262239e-18   1.27780805e-02  -1.51788304e-18 ...,   9.75781955e-19\n",
      "   0.00000000e+00   8.67361738e-19]\n",
      "19 center: \n",
      "[  1.40946282e-18   7.27050642e-03   1.31131146e-03 ...,   1.30104261e-18\n",
      "   0.00000000e+00   1.75555679e-03]\n"
     ]
    }
   ],
   "source": [
    "# To be implemented\n",
    "for index, center in enumerate(kmeans.cluster_centers_):\n",
    "    print('%d center: ' % (index))\n",
    "    print(center)"
   ]
  },
  {
   "cell_type": "markdown",
   "metadata": {},
   "source": [
    "#### Find the top 10 features for each cluster."
   ]
  },
  {
   "cell_type": "code",
   "execution_count": 60,
   "metadata": {
    "collapsed": false,
    "scrolled": true
   },
   "outputs": [
    {
     "name": "stdout",
     "output_type": "stream",
     "text": [
      "0 center has the top prominent words:\n",
      "[u'meat', u'lovers', u'lover', u'ordered', u'great', u'food', u'delicious', u'service', u'definitely', u'got']\n",
      "1 center has the top prominent words:\n",
      "[u'definitely', u'recommend', u'time', u'food', u'friends', u'come', u'amazing', u'service', u'friendly', u'place']\n",
      "2 center has the top prominent words:\n",
      "[u'happy', u'hour', u'great', u'food', u'good', u'place', u'service', u'came', u'awesome', u'come']\n",
      "3 center has the top prominent words:\n",
      "[u'great', u'meats', u'korean', u'food', u'dishes', u'service', u'meat', u'bbq', u'good', u'marinated']\n",
      "4 center has the top prominent words:\n",
      "[u'place', u'food', u'just', u'good', u'like', u'service', u'came', u'pretty', u'kbbq', u'time']\n",
      "5 center has the top prominent words:\n",
      "[u'spicy', u'chicken', u'tuna', u'kimbap', u'good', u'pork', u'food', u'great', u'korean', u'lemon']\n",
      "6 center has the top prominent words:\n",
      "[u'really', u'good', u'food', u'enjoyed', u'great', u'service', u'come', u'place', u'definitely', u'atmosphere']\n",
      "7 center has the top prominent words:\n",
      "[u'better', u'bbq', u'korean', u'places', u'great', u'quality', u'service', u'food', u'la', u'place']\n",
      "8 center has the top prominent words:\n",
      "[u'pork', u'belly', u'beef', u'toro', u'good', u'korean', u'place', u'ordered', u'kalbi', u'bbq']\n",
      "9 center has the top prominent words:\n",
      "[u'wait', u'long', u'food', u'time', u'worth', u'good', u'service', u'amazing', u'place', u'great']\n",
      "10 center has the top prominent words:\n",
      "[u'las', u'vegas', u'bbq', u'korean', u'great', u'good', u'food', u'best', u'place', u'service']\n",
      "11 center has the top prominent words:\n",
      "[u'great', u'food', u'service', u'place', u'atmosphere', u'awesome', u'amazing', u'vegas', u'come', u'bbq']\n",
      "12 center has the top prominent words:\n",
      "[u'kobe', u'beef', u'good', u'style', u'great', u'place', u'bbq', u'service', u'meat', u'delicious']\n",
      "13 center has the top prominent words:\n",
      "[u'trip', u'vegas', u'food', u'great', u'service', u'time', u'meal', u'meat', u'definitely', u'came']\n",
      "14 center has the top prominent words:\n",
      "[u'good', u'food', u'service', u'bbq', u'korean', u'meat', u'quality', u'place', u'pretty', u'price']\n",
      "15 center has the top prominent words:\n",
      "[u'best', u'korean', u'bbq', u've', u'vegas', u'food', u'place', u'service', u'town', u'great']\n",
      "16 center has the top prominent words:\n",
      "[u'love', u'place', u'great', u'food', u'service', u'come', u'awesome', u'good', u'staff', u'bbq']\n",
      "17 center has the top prominent words:\n",
      "[u'gangnam', u'people', u'combo', u'food', u'got', u'set', u'great', u'come', u'delicious', u'ordered']\n",
      "18 center has the top prominent words:\n",
      "[u'nice', u'good', u'place', u'food', u'atmosphere', u'restaurant', u'really', u'bbq', u'friendly', u'service']\n",
      "19 center has the top prominent words:\n",
      "[u'free', u'review', u'dessert', u'yelp', u'good', u'great', u'food', u'ice', u'cream', u'meat']\n"
     ]
    }
   ],
   "source": [
    "# To be implemented\n",
    "n = 10\n",
    "for index, point in enumerate(kmeans.cluster_centers_):\n",
    "    print('%d center has the top prominent words:' % (index))\n",
    "    print(get_top_values(point, n, vocab_top))"
   ]
  },
  {
   "cell_type": "markdown",
   "metadata": {},
   "source": [
    "#### Print out the rating and review of a random sample of the reviews assigned to each cluster to get a sense of the cluster."
   ]
  },
  {
   "cell_type": "code",
   "execution_count": 61,
   "metadata": {
    "collapsed": false
   },
   "outputs": [
    {
     "name": "stdout",
     "output_type": "stream",
     "text": [
      "chosen review:\n",
      "Authentic Korean BBQ with a grill in the table. The wait staff was friendly. They were helpfull in deciding what to order and explaining what the dishes were. I especially like the big screen tv with music videos playing.\n",
      "chosen rating:\n",
      "1\n",
      "top n prominent words:\n",
      "[u'great', u'meats', u'korean', u'food', u'dishes', u'service', u'meat', u'bbq', u'good', u'marinated']\n"
     ]
    }
   ],
   "source": [
    "# To be implemented\n",
    "rand_index = 42\n",
    "print('chosen review:')\n",
    "print(documents_top_restaurant[rand_index])\n",
    "print('chosen rating:')\n",
    "print(target_top_restaurant[rand_index])\n",
    "print('top n prominent words:')\n",
    "print(get_top_values(kmeans.cluster_centers_[target_labels[rand_index]], n, vocab_top))"
   ]
  },
  {
   "cell_type": "markdown",
   "metadata": {},
   "source": [
    "## 3. Use PCA to reduce dimensionality"
   ]
  },
  {
   "cell_type": "markdown",
   "metadata": {},
   "source": [
    "### Stardardize features\n",
    "Your X_train and X_test"
   ]
  },
  {
   "cell_type": "code",
   "execution_count": 62,
   "metadata": {
    "collapsed": false
   },
   "outputs": [],
   "source": [
    "from sklearn.preprocessing import StandardScaler\n",
    "# To be implemented\n",
    "\n",
    "scaler = StandardScaler()\n",
    "doc_scale = scaler.fit_transform(doc_vector_top)\n",
    "x_train_scale, x_test_scale, y_train, y_test = train_test_split(doc_scale, target_top_restaurant, test_size = 0.3, random_state = 0)"
   ]
  },
  {
   "cell_type": "markdown",
   "metadata": {},
   "source": [
    "### Use PCA to transform data (train and test) and get princial components"
   ]
  },
  {
   "cell_type": "code",
   "execution_count": 63,
   "metadata": {
    "collapsed": false
   },
   "outputs": [
    {
     "name": "stdout",
     "output_type": "stream",
     "text": [
      "(2000, 2000)\n",
      "(50, 50)\n"
     ]
    }
   ],
   "source": [
    "from sklearn.decomposition import PCA\n",
    "\n",
    "# Let's pick a n_components\n",
    "n_components = 2000\n",
    "pca = PCA(n_components=n_components)\n",
    "train_components = pca.fit_transform(x_train_scale)\n",
    "test_components = pca.transform(x_test_scale)\n",
    "print(train_components.T.dot(train_components).shape)\n",
    "total_variance = np.sum(train_components.T.dot(train_components))\n",
    "\n",
    "n_components = 50\n",
    "\n",
    "pca = PCA(n_components=n_components)\n",
    "train_components = pca.fit_transform(x_train_scale)\n",
    "test_components = pca.transform(x_test_scale)\n",
    "explained_variance = np.sum(train_components.T.dot(train_components))\n",
    "print(train_components.T.dot(train_components).shape)"
   ]
  },
  {
   "cell_type": "code",
   "execution_count": 64,
   "metadata": {
    "collapsed": false
   },
   "outputs": [
    {
     "name": "stdout",
     "output_type": "stream",
     "text": [
      "5974785.68905\n",
      "586620.119405\n"
     ]
    }
   ],
   "source": [
    "print(total_variance)\n",
    "print(explained_variance)"
   ]
  },
  {
   "cell_type": "markdown",
   "metadata": {},
   "source": [
    "### See how much (and how much percentage of) variance the principal components explain"
   ]
  },
  {
   "cell_type": "code",
   "execution_count": 65,
   "metadata": {
    "collapsed": false
   },
   "outputs": [
    {
     "name": "stdout",
     "output_type": "stream",
     "text": [
      "explained variance with 50 principal components: 9.818262 percent\n"
     ]
    }
   ],
   "source": [
    "percent = explained_variance / total_variance * 100\n",
    "print(\"explained variance with 50 principal components: %f percent\" % percent)"
   ]
  },
  {
   "cell_type": "markdown",
   "metadata": {},
   "source": [
    "### Viz: plot proportion of variance explained with top principal components\n",
    "\n",
    "For clear display, you may start with plotting <=20 principal components"
   ]
  },
  {
   "cell_type": "code",
   "execution_count": 66,
   "metadata": {
    "collapsed": false
   },
   "outputs": [
    {
     "data": {
      "text/plain": [
       "[<matplotlib.lines.Line2D at 0x11b20ec50>]"
      ]
     },
     "execution_count": 66,
     "metadata": {},
     "output_type": "execute_result"
    },
    {
     "data": {
      "image/png": "[encoded data removed]",
      "text/plain": [
       "<matplotlib.figure.Figure at 0x11875dd90>"
      ]
     },
     "metadata": {},
     "output_type": "display_data"
    }
   ],
   "source": [
    "# To be implemented\n",
    "variance = train_components.T.dot(train_components).sum(axis = 0) / explained_variance\n",
    "plt.plot(variance)"
   ]
  },
  {
   "cell_type": "markdown",
   "metadata": {},
   "source": [
    "## Classifying positive/negative review with PCA preprocessing"
   ]
  },
  {
   "cell_type": "markdown",
   "metadata": {},
   "source": [
    "### Logistic Regression Classifier\n",
    "#### Use standardized tf-idf vectors as features"
   ]
  },
  {
   "cell_type": "code",
   "execution_count": 67,
   "metadata": {
    "collapsed": false
   },
   "outputs": [
    {
     "data": {
      "text/plain": [
       "LogisticRegression(C=0.01, class_weight=None, dual=False, fit_intercept=True,\n",
       "          intercept_scaling=1, max_iter=100, multi_class='ovr', n_jobs=1,\n",
       "          penalty='l2', random_state=None, solver='liblinear', tol=0.0001,\n",
       "          verbose=0, warm_start=False)"
      ]
     },
     "execution_count": 67,
     "metadata": {},
     "output_type": "execute_result"
    }
   ],
   "source": [
    "# Build a Logistic Regression Classifier, train with standardized tf-idf vectors\n",
    "\n",
    "from sklearn.linear_model import LogisticRegression\n",
    "LogisticModel = LogisticRegression(C = 0.01)\n",
    "LogisticModel.fit(x_train_scale, y_train)"
   ]
  },
  {
   "cell_type": "code",
   "execution_count": 68,
   "metadata": {
    "collapsed": false
   },
   "outputs": [
    {
     "data": {
      "text/plain": [
       "0.96903914590747331"
      ]
     },
     "execution_count": 68,
     "metadata": {},
     "output_type": "execute_result"
    }
   ],
   "source": [
    "# Get score for training set\n",
    "LogisticModel.score(x_train_scale, y_train)"
   ]
  },
  {
   "cell_type": "code",
   "execution_count": 69,
   "metadata": {
    "collapsed": false,
    "scrolled": true
   },
   "outputs": [
    {
     "data": {
      "text/plain": [
       "0.74854771784232366"
      ]
     },
     "execution_count": 69,
     "metadata": {},
     "output_type": "execute_result"
    }
   ],
   "source": [
    "# Get score for test set\n",
    "LogisticModel.score(x_test_scale, y_test)"
   ]
  },
  {
   "cell_type": "markdown",
   "metadata": {},
   "source": [
    "#### Use (Stardardized + PCA) tf-idf vectors as features"
   ]
  },
  {
   "cell_type": "code",
   "execution_count": 70,
   "metadata": {
    "collapsed": false
   },
   "outputs": [
    {
     "data": {
      "text/plain": [
       "LogisticRegression(C=0.01, class_weight=None, dual=False, fit_intercept=True,\n",
       "          intercept_scaling=1, max_iter=100, multi_class='ovr', n_jobs=1,\n",
       "          penalty='l2', random_state=None, solver='liblinear', tol=0.0001,\n",
       "          verbose=0, warm_start=False)"
      ]
     },
     "execution_count": 70,
     "metadata": {},
     "output_type": "execute_result"
    }
   ],
   "source": [
    "# Build a Logistic Regression Classifier, train with PCA tranformed X\n",
    "\n",
    "from sklearn.linear_model import LogisticRegression\n",
    "\n",
    "# To be implemented\n",
    "LogisticModel = LogisticRegression(C = 0.01)\n",
    "LogisticModel.fit(train_components, y_train)"
   ]
  },
  {
   "cell_type": "code",
   "execution_count": 71,
   "metadata": {
    "collapsed": false
   },
   "outputs": [
    {
     "data": {
      "text/plain": [
       "0.79893238434163705"
      ]
     },
     "execution_count": 71,
     "metadata": {},
     "output_type": "execute_result"
    }
   ],
   "source": [
    "# Get score for training set\n",
    "LogisticModel.score(train_components, y_train)"
   ]
  },
  {
   "cell_type": "code",
   "execution_count": 72,
   "metadata": {
    "collapsed": false
   },
   "outputs": [
    {
     "data": {
      "text/plain": [
       "0.78921161825726138"
      ]
     },
     "execution_count": 72,
     "metadata": {},
     "output_type": "execute_result"
    }
   ],
   "source": [
    "# Get score for test set, REMEMBER to use PCA-transformed X!\n",
    "LogisticModel.score(test_components, y_test)"
   ]
  },
  {
   "cell_type": "markdown",
   "metadata": {},
   "source": [
    "#### Q: What do you see from the training score and the test score? How do you compare the results from PCA and non-PCA preprocessing?"
   ]
  },
  {
   "cell_type": "markdown",
   "metadata": {},
   "source": [
    "A: (insert your comments here)"
   ]
  },
  {
   "cell_type": "markdown",
   "metadata": {},
   "source": [
    "1. It is less likely to overfit, because it reduces the dimensionality and ease the curse of dimensionality\n",
    "2. The test score is higher than that without PCA"
   ]
  },
  {
   "cell_type": "markdown",
   "metadata": {},
   "source": [
    "#### You can plot the coefficients against principal components\n"
   ]
  },
  {
   "cell_type": "code",
   "execution_count": 73,
   "metadata": {
    "collapsed": false
   },
   "outputs": [
    {
     "data": {
      "text/plain": [
       "[<matplotlib.lines.Line2D at 0x12a712d90>]"
      ]
     },
     "execution_count": 73,
     "metadata": {},
     "output_type": "execute_result"
    },
    {
     "data": {
      "image/png": "[encoded data removed]",
      "text/plain": [
       "<matplotlib.figure.Figure at 0x10c883050>"
      ]
     },
     "metadata": {},
     "output_type": "display_data"
    }
   ],
   "source": [
    "# To be implemented\n",
    "PCA_Name = range(1, 51)\n",
    "plt.plot(PCA_Name, LogisticModel.coef_[0])"
   ]
  },
  {
   "cell_type": "markdown",
   "metadata": {},
   "source": [
    "### Random Forest Classifier\n",
    "#### Use standardized tf-idf vectors as features"
   ]
  },
  {
   "cell_type": "code",
   "execution_count": 74,
   "metadata": {
    "collapsed": false
   },
   "outputs": [
    {
     "data": {
      "text/plain": [
       "RandomForestClassifier(bootstrap=True, class_weight=None, criterion='entropy',\n",
       "            max_depth=None, max_features='auto', max_leaf_nodes=None,\n",
       "            min_impurity_split=1e-07, min_samples_leaf=1,\n",
       "            min_samples_split=20, min_weight_fraction_leaf=0.0,\n",
       "            n_estimators=10, n_jobs=1, oob_score=False, random_state=None,\n",
       "            verbose=0, warm_start=False)"
      ]
     },
     "execution_count": 74,
     "metadata": {},
     "output_type": "execute_result"
    }
   ],
   "source": [
    "# Build a Random Forest Classifier\n",
    "\n",
    "from sklearn.ensemble import RandomForestClassifier\n",
    "\n",
    "RandomForestModel = RandomForestClassifier(criterion = 'entropy', min_samples_split=20)\n",
    "RandomForestModel.fit(x_train_scale, y_train)"
   ]
  },
  {
   "cell_type": "code",
   "execution_count": 75,
   "metadata": {
    "collapsed": false
   },
   "outputs": [
    {
     "data": {
      "text/plain": [
       "0.94697508896797156"
      ]
     },
     "execution_count": 75,
     "metadata": {},
     "output_type": "execute_result"
    }
   ],
   "source": [
    "# Get score for training set\n",
    "RandomForestModel.score(x_train_scale, y_train)"
   ]
  },
  {
   "cell_type": "code",
   "execution_count": 76,
   "metadata": {
    "collapsed": false,
    "scrolled": true
   },
   "outputs": [
    {
     "data": {
      "text/plain": [
       "0.75850622406639001"
      ]
     },
     "execution_count": 76,
     "metadata": {},
     "output_type": "execute_result"
    }
   ],
   "source": [
    "# Get score for test set\n",
    "RandomForestModel.score(x_test_scale, y_test)"
   ]
  },
  {
   "cell_type": "markdown",
   "metadata": {},
   "source": [
    "#### Use (Stardardized + PCA) tf-idf vectors as features"
   ]
  },
  {
   "cell_type": "code",
   "execution_count": 77,
   "metadata": {
    "collapsed": false
   },
   "outputs": [
    {
     "data": {
      "text/plain": [
       "RandomForestClassifier(bootstrap=True, class_weight=None, criterion='entropy',\n",
       "            max_depth=None, max_features='auto', max_leaf_nodes=None,\n",
       "            min_impurity_split=1e-07, min_samples_leaf=1,\n",
       "            min_samples_split=20, min_weight_fraction_leaf=0.0,\n",
       "            n_estimators=10, n_jobs=1, oob_score=False, random_state=None,\n",
       "            verbose=0, warm_start=False)"
      ]
     },
     "execution_count": 77,
     "metadata": {},
     "output_type": "execute_result"
    }
   ],
   "source": [
    "# Build a Random Forest Classifier\n",
    "\n",
    "from sklearn.ensemble import RandomForestClassifier\n",
    "\n",
    "RandomForestModel = RandomForestClassifier(criterion = 'entropy', min_samples_split=20)\n",
    "RandomForestModel.fit(train_components, y_train)"
   ]
  },
  {
   "cell_type": "code",
   "execution_count": 78,
   "metadata": {
    "collapsed": false
   },
   "outputs": [
    {
     "data": {
      "text/plain": [
       "0.90569395017793597"
      ]
     },
     "execution_count": 78,
     "metadata": {},
     "output_type": "execute_result"
    }
   ],
   "source": [
    "# Get score for training set\n",
    "RandomForestModel.score(train_components, y_train)"
   ]
  },
  {
   "cell_type": "code",
   "execution_count": 79,
   "metadata": {
    "collapsed": false
   },
   "outputs": [
    {
     "data": {
      "text/plain": [
       "0.76431535269709538"
      ]
     },
     "execution_count": 79,
     "metadata": {},
     "output_type": "execute_result"
    }
   ],
   "source": [
    "# Get score for test set, REMEMBER to use PCA-transformed X!\n",
    "RandomForestModel.score(test_components, y_test)"
   ]
  },
  {
   "cell_type": "markdown",
   "metadata": {},
   "source": [
    "#### Q: What do you see from the training result and the test result?"
   ]
  },
  {
   "cell_type": "markdown",
   "metadata": {},
   "source": [
    "A: (insert your comments here)"
   ]
  },
  {
   "cell_type": "markdown",
   "metadata": {},
   "source": [
    "1. It did not have much effect since it does not use the distance to train. Therefore, it will not help much to avoid overfit\n",
    "2. The model performs a little bit worse than the un-PCA-ed model because it loses information when PCA is applied and causes some information to be thrown away because of their low-importance"
   ]
  },
  {
   "cell_type": "markdown",
   "metadata": {},
   "source": [
    "#### You can plot the feature importances against principal components\n"
   ]
  },
  {
   "cell_type": "code",
   "execution_count": 80,
   "metadata": {
    "collapsed": false
   },
   "outputs": [
    {
     "data": {
      "text/plain": [
       "[<matplotlib.lines.Line2D at 0x129b32910>]"
      ]
     },
     "execution_count": 80,
     "metadata": {},
     "output_type": "execute_result"
    },
    {
     "data": {
      "image/png": "[encoded data removed]",
      "text/plain": [
       "<matplotlib.figure.Figure at 0x1298c5910>"
      ]
     },
     "metadata": {},
     "output_type": "display_data"
    }
   ],
   "source": [
    "# To be implemented\n",
    "plt.plot(PCA_Name, RandomForestModel.feature_importances_)"
   ]
  },
  {
   "cell_type": "code",
   "execution_count": null,
   "metadata": {
    "collapsed": true
   },
   "outputs": [],
   "source": []
  },
  {
   "cell_type": "code",
   "execution_count": null,
   "metadata": {
    "collapsed": true
   },
   "outputs": [],
   "source": []
  },
  {
   "cell_type": "markdown",
   "metadata": {},
   "source": [
    "## Extra Credit #1: Can you cluster restaurants from their category information?\n",
    "Hint: a business may have mutiple categories, e.g. a restaurant can have both \"Restaurants\" and \"Korean\""
   ]
  },
  {
   "cell_type": "code",
   "execution_count": 81,
   "metadata": {
    "collapsed": false
   },
   "outputs": [],
   "source": [
    "# preprocessing the categories data\n",
    "docs = df['categories'].values\n",
    "target = (df['stars'] == 5).astype(int).values\n",
    "doc = [doc[1:-1] for doc in docs]\n",
    "\n"
   ]
  },
  {
   "cell_type": "code",
   "execution_count": 82,
   "metadata": {
    "collapsed": true
   },
   "outputs": [],
   "source": [
    "# vectorizer\n",
    "from sklearn.feature_extraction.text import TfidfVectorizer\n",
    "import nltk\n",
    "from nltk.tokenize import word_tokenize\n",
    "from nltk.corpus import stopwords\n",
    "\n",
    "from sklearn.model_selection import train_test_split\n",
    "x_train, x_test, y_train, y_test = train_test_split(doc, target, test_size = 0.8, random_state = 0)\n",
    "\n",
    "vectorizer_categories = TfidfVectorizer(stop_words = 'english', max_features = 2000)\n",
    "train_vector_categories = vectorizer_categories.fit_transform(x_train).toarray()\n",
    "vocab_categories = vectorizer_categories.get_feature_names()\n",
    "test_vector_categories = vectorizer_categories.transform(x_test).toarray()"
   ]
  },
  {
   "cell_type": "code",
   "execution_count": 83,
   "metadata": {
    "collapsed": false
   },
   "outputs": [
    {
     "data": {
      "text/plain": [
       "KMeans(algorithm='auto', copy_x=True, init='k-means++', max_iter=300,\n",
       "    n_clusters=20, n_init=10, n_jobs=1, precompute_distances='auto',\n",
       "    random_state=42, tol=0.0001, verbose=0)"
      ]
     },
     "execution_count": 83,
     "metadata": {},
     "output_type": "execute_result"
    }
   ],
   "source": [
    "# cluster restaurants\n",
    "kmeans = KMeans(n_clusters = 20, random_state=42)\n",
    "kmeans.fit(train_vector_categories)"
   ]
  },
  {
   "cell_type": "code",
   "execution_count": 84,
   "metadata": {
    "collapsed": true
   },
   "outputs": [],
   "source": [
    "doc_vector_categories = vectorizer_categories.transform(doc).toarray()\n",
    "labels = kmeans.predict(doc_vector_categories)"
   ]
  },
  {
   "cell_type": "code",
   "execution_count": 85,
   "metadata": {
    "collapsed": false,
    "scrolled": true
   },
   "outputs": [
    {
     "name": "stdout",
     "output_type": "stream",
     "text": [
      "0 center has the top prominent words:\n",
      "[u'barbeque', u'korean', u'plates', u'small', u'tapas', u'restaurants', u'japanese', u'fusion', u'asian', u'soul']\n",
      "1 center has the top prominent words:\n",
      "[u'bars', u'nightlife', u'mexican', u'sports', u'restaurants', u'lounges', u'pubs', u'american', u'traditional', u'seafood']\n",
      "2 center has the top prominent words:\n",
      "[u'burgers', u'tapas', u'restaurants', u'small', u'plates', u'spanish', u'salad', u'gastropubs', u'american', u'bars']\n",
      "3 center has the top prominent words:\n",
      "[u'breakfast', u'brunch', u'american', u'traditional', u'restaurants', u'new', u'sandwiches', u'burgers', u'diners', u'food']\n",
      "4 center has the top prominent words:\n",
      "[u'italian', u'restaurants', u'seafood', u'american', u'delis', u'traditional', u'nightlife', u'new', u'bars', u'steakhouses']\n",
      "5 center has the top prominent words:\n",
      "[u'asian', u'fusion', u'restaurants', u'chinese', u'japanese', u'bars', u'hawaiian', u'food', u'mexican', u'nightlife']\n",
      "6 center has the top prominent words:\n",
      "[u'sushi', u'japanese', u'bars', u'restaurants', u'fusion', u'asian', u'seafood', u'nightlife', u'steakhouses', u'salad']\n",
      "7 center has the top prominent words:\n",
      "[u'seafood', u'steakhouses', u'american', u'restaurants', u'traditional', u'new', u'cajun', u'creole', u'desserts', u'food']\n",
      "8 center has the top prominent words:\n",
      "[u'fast', u'food', u'burgers', u'restaurants', u'mexican', u'chicken', u'wings', u'sandwiches', u'american', u'breakfast']\n",
      "9 center has the top prominent words:\n",
      "[u'american', u'new', u'traditional', u'restaurants', u'burgers', u'nightlife', u'bars', u'southern', u'food', u'sandwiches']\n",
      "10 center has the top prominent words:\n",
      "[u'pizza', u'italian', u'restaurants', u'wings', u'chicken', u'sandwiches', u'salad', u'food', u'delis', u'burgers']\n",
      "11 center has the top prominent words:\n",
      "[u'mexican', u'restaurants', u'seafood', u'food', u'vegetarian', u'cuisine', u'new', u'latin', u'american', u'cafes']\n",
      "12 center has the top prominent words:\n",
      "[u'food', u'restaurants', u'services', u'event', u'planning', u'sandwiches', u'specialty', u'indian', u'hotels', u'caterers']\n",
      "13 center has the top prominent words:\n",
      "[u'buffets', u'breakfast', u'brunch', u'restaurants', u'sandwiches', u'food', u'american', u'brazilian', u'traditional', u'new']\n",
      "14 center has the top prominent words:\n",
      "[u'chinese', u'thai', u'restaurants', u'noodles', u'ramen', u'japanese', u'sum', u'dim', u'taiwanese', u'soup']\n",
      "15 center has the top prominent words:\n",
      "[u'vietnamese', u'restaurants', u'soup', u'chinese', u'noodles', u'barbeque', u'sandwiches', u'american', u'traditional', u'fusion']\n",
      "16 center has the top prominent words:\n",
      "[u'bars', u'wine', u'nightlife', u'cocktail', u'beer', u'american', u'spirits', u'restaurants', u'italian', u'food']\n",
      "17 center has the top prominent words:\n",
      "[u'tea', u'coffee', u'food', u'cafes', u'desserts', u'restaurants', u'bubble', u'breakfast', u'brunch', u'bakeries']\n",
      "18 center has the top prominent words:\n",
      "[u'steakhouses', u'restaurants', u'french', u'american', u'new', u'breakfast', u'brunch', u'cheesesteaks', u'traditional', u'nightlife']\n",
      "19 center has the top prominent words:\n",
      "[u'mediterranean', u'middle', u'eastern', u'greek', u'restaurants', u'lebanese', u'vegetarian', u'halal', u'kosher', u'vegan']\n"
     ]
    }
   ],
   "source": [
    "for index, point in enumerate(kmeans.cluster_centers_):\n",
    "    print('%d center has the top prominent words:' % (index))\n",
    "    print(get_top_values(point, n, vocab_categories))"
   ]
  },
  {
   "cell_type": "markdown",
   "metadata": {},
   "source": [
    "## Extra Credit #2: Can you try different distance/similarity metrics for clusterings, e.g. Pearson correlation, Jaccard distance, etc. \n",
    "\n",
    "Hint: You can take a look at [scipy](http://docs.scipy.org/doc/scipy/reference/generated/scipy.spatial.distance.pdist.html#scipy.spatial.distance.pdist) documentations to use other distances\n",
    "\n",
    "#### Q: How do you compare with Cosine distance or Euclidean distance?"
   ]
  },
  {
   "cell_type": "markdown",
   "metadata": {},
   "source": [
    "Cosine Distance is less influenced by the curse of dimensionality than the Euclidean Distance."
   ]
  },
  {
   "cell_type": "code",
   "execution_count": 86,
   "metadata": {
    "collapsed": false
   },
   "outputs": [
    {
     "data": {
      "text/plain": [
       "(69603, 406)"
      ]
     },
     "execution_count": 86,
     "metadata": {},
     "output_type": "execute_result"
    }
   ],
   "source": [
    "train_vector_categories.shape"
   ]
  },
  {
   "cell_type": "code",
   "execution_count": 87,
   "metadata": {
    "collapsed": false
   },
   "outputs": [],
   "source": [
    "from scipy.spatial.distance import pdist\n",
    "from scipy.spatial.distance import euclidean\n",
    "from scipy.spatial.distance import cosine\n",
    "from scipy.spatial.distance import jaccard\n",
    "from scipy.spatial.distance import correlation\n",
    "from collections import defaultdict\n",
    "\n",
    "import random\n",
    "\n",
    "'''\n",
    "class Customized_KMeans():\n",
    "    def __init__(self, k, iterations = 300, distFunc = euclidean):\n",
    "        self.k = k\n",
    "        self.distFunc = distFunc\n",
    "        self.iterations = iterations\n",
    "        self.cluster_centers = []\n",
    "        self.inertia = 0\n",
    "    \n",
    "    def initial(self, X):\n",
    "        index = random.randint(0, X.shape[0] - 1) # find the first one\n",
    "        centers = [tuple(X[index])]\n",
    "        while len(centers) < self.k:\n",
    "            default_dist = 0\n",
    "            default_center = []\n",
    "            for pt in X:\n",
    "                min_dist = np.min([self.distFunc(center, pt) for center in centers])\n",
    "                if min_dist > default_dist:\n",
    "                    default_dist = min_dist\n",
    "                    default_center = tuple(pt)\n",
    "            centers.append(default_center)\n",
    "        return centers\n",
    "        \n",
    "    def fit(self, X):\n",
    "        self.cluster_centers = self.initial(X)\n",
    "        print('initialization complete')\n",
    "        for it in xrange(self.iterations):\n",
    "            clusters = defaultdict(list)\n",
    "            labels = self.predict(X)\n",
    "            new_centers = []\n",
    "            for i in xrange(X.shape[0]):\n",
    "                clusters[labels[i]].append(X[i])\n",
    "            for i in range(self.k):\n",
    "                new_centers.append(np.mean(clusters[i], axis = 0))\n",
    "            new_centers = [tuple(center) for center in new_centers]\n",
    "            if set(self.cluster_centers) == set(new_centers):\n",
    "                break\n",
    "            self.cluster_centers = new_centers\n",
    "    \n",
    "    \n",
    "    def predict(self, X):\n",
    "        label = []\n",
    "        for pt in X:\n",
    "            dist_list = [self.distFunc(pt, center) for center in self.cluster_centers]\n",
    "            label.append(np.argmin(dist_list))\n",
    "        return label\n",
    "'''\n",
    "def initial(X, distFunc, k):\n",
    "    index = random.randint(0, X.shape[0] - 1) # find the first one\n",
    "    centers = [tuple(X[index])]\n",
    "    while len(centers) < k:\n",
    "        default_dist = 0\n",
    "        default_center = []\n",
    "        for pt in X:\n",
    "            min_dist = np.min([distFunc(center, pt) for center in centers])\n",
    "            if min_dist > default_dist:\n",
    "                default_dist = min_dist\n",
    "                default_center = tuple(pt)\n",
    "        centers.append(default_center)\n",
    "    return centers\n",
    "def k_means(X, distFunc, k=5, max_iter=300):\n",
    "    \"\"\"Performs k means\n",
    "\n",
    "    Args:\n",
    "    - X - feature matrix\n",
    "    - k - number of clusters\n",
    "    - max_iter - maximum iteratations\n",
    "\n",
    "    Returns:\n",
    "    - clusters - dict mapping cluster centers to observations\n",
    "    \"\"\"\n",
    "    centers = [tuple(pt) for pt in initial(X, distFunc, k)]\n",
    "    for i in xrange(max_iter):\n",
    "        clusters = defaultdict(list)\n",
    "\n",
    "        for datapoint in X:\n",
    "            distances = [distFunc(datapoint, center) for center in centers]\n",
    "            center = centers[np.argmin(distances)]\n",
    "            clusters[center].append(datapoint)\n",
    "\n",
    "        new_centers = []\n",
    "        for center, pts in clusters.iteritems():\n",
    "            new_center = np.mean(pts, axis=0)\n",
    "            new_centers.append(tuple(new_center))\n",
    "\n",
    "        if set(new_centers) == set(centers):\n",
    "            break\n",
    "\n",
    "        centers = new_centers\n",
    "\n",
    "    return clusters, centers"
   ]
  },
  {
   "cell_type": "code",
   "execution_count": 88,
   "metadata": {
    "collapsed": false
   },
   "outputs": [],
   "source": [
    "def printFeatures(cluster, vocab):\n",
    "    for index, point in enumerate(cluster):\n",
    "        print('%d center has the top prominent words:' % (index))\n",
    "        print(get_top_values(point, n, vocab))\n"
   ]
  },
  {
   "cell_type": "code",
   "execution_count": 89,
   "metadata": {
    "collapsed": false
   },
   "outputs": [
    {
     "name": "stdout",
     "output_type": "stream",
     "text": [
      "Euclidean Prediction Complete\n",
      "0 center has the top prominent words:\n",
      "[u'food', u'brunch', u'breakfast', u'restaurants', u'fast', u'sandwiches', u'tea', u'burgers', u'coffee', u'cafes']\n",
      "1 center has the top prominent words:\n",
      "[u'american', u'new', u'traditional', u'restaurants', u'bars', u'breakfast', u'brunch', u'nightlife', u'burgers', u'steakhouses']\n",
      "2 center has the top prominent words:\n",
      "[u'pizza', u'italian', u'restaurants', u'wings', u'chicken', u'sandwiches', u'food', u'bars', u'salad', u'nightlife']\n",
      "3 center has the top prominent words:\n",
      "[u'japanese', u'sushi', u'bars', u'restaurants', u'fusion', u'asian', u'ramen', u'tapas', u'plates', u'small']\n",
      "4 center has the top prominent words:\n",
      "[u'restaurants', u'mexican', u'bars', u'nightlife', u'italian', u'chinese', u'steakhouses', u'seafood', u'thai', u'burgers']\n"
     ]
    }
   ],
   "source": [
    "euclidean_clusters, euclidean_centers = k_means(train_vector_categories, euclidean)\n",
    "print('Euclidean Prediction Complete')\n",
    "printFeatures(euclidean_clusters, vocab_categories)"
   ]
  },
  {
   "cell_type": "code",
   "execution_count": 90,
   "metadata": {
    "collapsed": false
   },
   "outputs": [
    {
     "name": "stdout",
     "output_type": "stream",
     "text": [
      "Cosine Prediction\n",
      "0 center has the top prominent words:\n",
      "[u'food', u'fast', u'sandwiches', u'restaurants', u'brunch', u'breakfast', u'tea', u'cafes', u'coffee', u'burgers']\n",
      "1 center has the top prominent words:\n",
      "[u'italian', u'pizza', u'restaurants', u'bars', u'food', u'nightlife', u'wine', u'salad', u'american', u'wings']\n",
      "2 center has the top prominent words:\n",
      "[u'american', u'restaurants', u'new', u'bars', u'traditional', u'mexican', u'nightlife', u'steakhouses', u'brunch', u'breakfast']\n",
      "3 center has the top prominent words:\n",
      "[u'japanese', u'sushi', u'bars', u'restaurants', u'chinese', u'asian', u'fusion', u'barbeque', u'korean', u'vietnamese']\n",
      "4 center has the top prominent words:\n",
      "[u'thai', u'restaurants', u'vegetarian', u'mediterranean', u'indian', u'event', u'services', u'planning', u'hotels', u'greek']\n"
     ]
    }
   ],
   "source": [
    "cosine_clusters, cosine_centers = k_means(train_vector_categories, cosine)\n",
    "print('Cosine Prediction')\n",
    "printFeatures(cosine_clusters, vocab_categories)"
   ]
  },
  {
   "cell_type": "code",
   "execution_count": 91,
   "metadata": {
    "collapsed": false
   },
   "outputs": [
    {
     "name": "stdout",
     "output_type": "stream",
     "text": [
      "Correlation Prediction\n",
      "0 center has the top prominent words:\n",
      "[u'food', u'burgers', u'restaurants', u'fast', u'tea', u'cafes', u'coffee', u'sandwiches', u'vegan', u'desserts']\n",
      "1 center has the top prominent words:\n",
      "[u'chinese', u'restaurants', u'asian', u'fusion', u'japanese', u'korean', u'barbeque', u'thai', u'vietnamese', u'noodles']\n",
      "2 center has the top prominent words:\n",
      "[u'american', u'breakfast', u'brunch', u'traditional', u'restaurants', u'new', u'steakhouses', u'buffets', u'sandwiches', u'burgers']\n",
      "3 center has the top prominent words:\n",
      "[u'bars', u'nightlife', u'mexican', u'restaurants', u'sushi', u'japanese', u'american', u'wine', u'new', u'sports']\n",
      "4 center has the top prominent words:\n",
      "[u'pizza', u'italian', u'restaurants', u'food', u'american', u'bars', u'sandwiches', u'wings', u'chicken', u'salad']\n"
     ]
    }
   ],
   "source": [
    "correlation_clusters, correlation_centers = k_means(train_vector_categories, correlation)\n",
    "print('Correlation Prediction')\n",
    "printFeatures(correlation_clusters, vocab_categories)"
   ]
  },
  {
   "cell_type": "code",
   "execution_count": 92,
   "metadata": {
    "collapsed": false
   },
   "outputs": [
    {
     "name": "stdout",
     "output_type": "stream",
     "text": [
      "Jaccard Prediction\n",
      "0 center has the top prominent words:\n",
      "[u'restaurants', u'bars', u'american', u'food', u'new', u'nightlife', u'traditional', u'mexican', u'brunch', u'breakfast']\n",
      "1 center has the top prominent words:\n",
      "[u'soup', u'salad', u'mexican', u'nightlife', u'bars', u'restaurants', u'eastern', u'education', u'entertainment', u'estate']\n"
     ]
    }
   ],
   "source": [
    "jaccard_clusters, jaccard_centers = k_means(train_vector_categories, jaccard)\n",
    "print('Jaccard Prediction')\n",
    "printFeatures(jaccard_clusters, vocab_categories)"
   ]
  },
  {
   "cell_type": "markdown",
   "metadata": {},
   "source": [
    "## Extra Credit #3: Can you cluster categories from business entities? What does it mean by a cluster?\n",
    "Hint: Think the example where words can be clustered from the transposed tf-idf matrix."
   ]
  },
  {
   "cell_type": "markdown",
   "metadata": {
    "collapsed": true
   },
   "source": [
    "Clustering categories from business entities is to categorize each \"business entity\"/\"business id\". That is to classify each entity into similar categories"
   ]
  },
  {
   "cell_type": "code",
   "execution_count": 93,
   "metadata": {
    "collapsed": false
   },
   "outputs": [],
   "source": [
    "entities = df[['business_id', 'categories']]\n",
    "entities = entities.drop_duplicates()\n",
    "category = entities['categories'].values\n",
    "category_name = np.array([name[1:-1] for name in category])\n",
    "target = np.zeros(category_name.shape)\n",
    "x_train, x_test, y_train, y_test = train_test_split(category_name, target, test_size = 0.3, random_state = 0)"
   ]
  },
  {
   "cell_type": "code",
   "execution_count": 94,
   "metadata": {
    "collapsed": false
   },
   "outputs": [
    {
     "data": {
      "text/plain": [
       "'Steakhouses, Restaurants, Cajun/Creole'"
      ]
     },
     "execution_count": 94,
     "metadata": {},
     "output_type": "execute_result"
    }
   ],
   "source": [
    "category_name[0]"
   ]
  },
  {
   "cell_type": "code",
   "execution_count": 95,
   "metadata": {
    "collapsed": false
   },
   "outputs": [],
   "source": [
    "from sklearn.feature_extraction.text import TfidfVectorizer\n",
    "import nltk\n",
    "from nltk.tokenize import word_tokenize\n",
    "from nltk.corpus import stopwords\n",
    "from sklearn.cluster import KMeans\n",
    "\n",
    "vectorizer = TfidfVectorizer(stop_words = 'english', max_features = 2000)\n",
    "train_vector = vectorizer.fit_transform(x_train).toarray()\n",
    "vocab = vectorizer.get_feature_names()\n",
    "test_vector = vectorizer.transform(x_test).toarray()\n",
    "category_vector = vectorizer.transform(category_name).toarray()\n"
   ]
  },
  {
   "cell_type": "code",
   "execution_count": 96,
   "metadata": {
    "collapsed": false
   },
   "outputs": [
    {
     "data": {
      "text/plain": [
       "KMeans(algorithm='auto', copy_x=True, init='k-means++', max_iter=300,\n",
       "    n_clusters=5, n_init=10, n_jobs=1, precompute_distances='auto',\n",
       "    random_state=42, tol=0.0001, verbose=0)"
      ]
     },
     "execution_count": 96,
     "metadata": {},
     "output_type": "execute_result"
    }
   ],
   "source": [
    "kmeans_cluster = KMeans(n_clusters = 5, random_state = 42)\n",
    "kmeans_cluster.fit(train_vector)"
   ]
  },
  {
   "cell_type": "code",
   "execution_count": 97,
   "metadata": {
    "collapsed": false
   },
   "outputs": [
    {
     "data": {
      "text/html": [
       "<div>\n",
       "<style>\n",
       "    .dataframe thead tr:only-child th {\n",
       "        text-align: right;\n",
       "    }\n",
       "\n",
       "    .dataframe thead th {\n",
       "        text-align: left;\n",
       "    }\n",
       "\n",
       "    .dataframe tbody tr th {\n",
       "        vertical-align: top;\n",
       "    }\n",
       "</style>\n",
       "<table border=\"1\" class=\"dataframe\">\n",
       "  <thead>\n",
       "    <tr style=\"text-align: right;\">\n",
       "      <th></th>\n",
       "      <th>categories</th>\n",
       "      <th>label</th>\n",
       "    </tr>\n",
       "  </thead>\n",
       "  <tbody>\n",
       "    <tr>\n",
       "      <th>0</th>\n",
       "      <td>[Steakhouses, Restaurants, Cajun/Creole]</td>\n",
       "      <td>1</td>\n",
       "    </tr>\n",
       "    <tr>\n",
       "      <th>1</th>\n",
       "      <td>[Restaurants, Korean, Sushi Bars]</td>\n",
       "      <td>0</td>\n",
       "    </tr>\n",
       "    <tr>\n",
       "      <th>2</th>\n",
       "      <td>[Restaurants, Bars, Nightlife, Seafood, Americ...</td>\n",
       "      <td>0</td>\n",
       "    </tr>\n",
       "    <tr>\n",
       "      <th>3</th>\n",
       "      <td>[Restaurants, Thai]</td>\n",
       "      <td>1</td>\n",
       "    </tr>\n",
       "    <tr>\n",
       "      <th>4</th>\n",
       "      <td>[Buffets, Restaurants]</td>\n",
       "      <td>1</td>\n",
       "    </tr>\n",
       "  </tbody>\n",
       "</table>\n",
       "</div>"
      ],
      "text/plain": [
       "                                          categories  label\n",
       "0           [Steakhouses, Restaurants, Cajun/Creole]      1\n",
       "1                  [Restaurants, Korean, Sushi Bars]      0\n",
       "2  [Restaurants, Bars, Nightlife, Seafood, Americ...      0\n",
       "3                                [Restaurants, Thai]      1\n",
       "4                             [Buffets, Restaurants]      1"
      ]
     },
     "execution_count": 97,
     "metadata": {},
     "output_type": "execute_result"
    }
   ],
   "source": [
    "category_label = kmeans_cluster.predict(category_vector)\n",
    "data_col = {'categories': category, 'label': category_label}\n",
    "df_label = pd.DataFrame(data = data_col)\n",
    "df_label.head(5)"
   ]
  },
  {
   "cell_type": "code",
   "execution_count": 98,
   "metadata": {
    "collapsed": false
   },
   "outputs": [
    {
     "data": {
      "text/html": [
       "<div>\n",
       "<style>\n",
       "    .dataframe thead tr:only-child th {\n",
       "        text-align: right;\n",
       "    }\n",
       "\n",
       "    .dataframe thead th {\n",
       "        text-align: left;\n",
       "    }\n",
       "\n",
       "    .dataframe tbody tr th {\n",
       "        vertical-align: top;\n",
       "    }\n",
       "</style>\n",
       "<table border=\"1\" class=\"dataframe\">\n",
       "  <thead>\n",
       "    <tr style=\"text-align: right;\">\n",
       "      <th></th>\n",
       "      <th>business_id</th>\n",
       "      <th>categories</th>\n",
       "      <th>label</th>\n",
       "    </tr>\n",
       "  </thead>\n",
       "  <tbody>\n",
       "    <tr>\n",
       "      <th>0</th>\n",
       "      <td>--9e1ONYQuAa-CB_Rrw7Tw</td>\n",
       "      <td>[Steakhouses, Restaurants, Cajun/Creole]</td>\n",
       "      <td>1</td>\n",
       "    </tr>\n",
       "    <tr>\n",
       "      <th>1</th>\n",
       "      <td>-1vfRrlnNnNJ5boOVghMPA</td>\n",
       "      <td>[Restaurants, Korean, Sushi Bars]</td>\n",
       "      <td>0</td>\n",
       "    </tr>\n",
       "    <tr>\n",
       "      <th>2</th>\n",
       "      <td>-3zffZUHoY8bQjGfPSoBKQ</td>\n",
       "      <td>[Restaurants, Bars, Nightlife, Seafood, Americ...</td>\n",
       "      <td>0</td>\n",
       "    </tr>\n",
       "    <tr>\n",
       "      <th>3</th>\n",
       "      <td>-8R_-EkGpUhBk55K9Dd4mg</td>\n",
       "      <td>[Restaurants, Thai]</td>\n",
       "      <td>1</td>\n",
       "    </tr>\n",
       "    <tr>\n",
       "      <th>4</th>\n",
       "      <td>-8R_-EkGpUhBk55K9Dd4mg</td>\n",
       "      <td>[Restaurants, Thai]</td>\n",
       "      <td>1</td>\n",
       "    </tr>\n",
       "  </tbody>\n",
       "</table>\n",
       "</div>"
      ],
      "text/plain": [
       "              business_id                                         categories  \\\n",
       "0  --9e1ONYQuAa-CB_Rrw7Tw           [Steakhouses, Restaurants, Cajun/Creole]   \n",
       "1  -1vfRrlnNnNJ5boOVghMPA                  [Restaurants, Korean, Sushi Bars]   \n",
       "2  -3zffZUHoY8bQjGfPSoBKQ  [Restaurants, Bars, Nightlife, Seafood, Americ...   \n",
       "3  -8R_-EkGpUhBk55K9Dd4mg                                [Restaurants, Thai]   \n",
       "4  -8R_-EkGpUhBk55K9Dd4mg                                [Restaurants, Thai]   \n",
       "\n",
       "   label  \n",
       "0      1  \n",
       "1      0  \n",
       "2      0  \n",
       "3      1  \n",
       "4      1  "
      ]
     },
     "execution_count": 98,
     "metadata": {},
     "output_type": "execute_result"
    }
   ],
   "source": [
    "df_merge = pd.merge(entities, df_label, how='outer', left_on='categories', right_on='categories')\n",
    "df_merge.head(5)"
   ]
  },
  {
   "cell_type": "code",
   "execution_count": 99,
   "metadata": {
    "collapsed": false
   },
   "outputs": [
    {
     "data": {
      "text/plain": [
       "1    35813\n",
       "2    10706\n",
       "3     9672\n",
       "4     1961\n",
       "0     1308\n",
       "Name: label, dtype: int64"
      ]
     },
     "execution_count": 99,
     "metadata": {},
     "output_type": "execute_result"
    }
   ],
   "source": [
    "df_merge.shape\n",
    "df_merge['label'].value_counts()"
   ]
  },
  {
   "cell_type": "code",
   "execution_count": 100,
   "metadata": {
    "collapsed": false
   },
   "outputs": [
    {
     "name": "stdout",
     "output_type": "stream",
     "text": [
      "0 center has the top prominent words:\n",
      "[u'bars', u'nightlife', u'sushi', u'american', u'restaurants', u'sports', u'japanese', u'traditional', u'new', u'pubs']\n",
      "1 center has the top prominent words:\n",
      "[u'restaurants', u'mexican', u'food', u'chinese', u'sandwiches', u'thai', u'seafood', u'italian', u'barbeque', u'delis']\n",
      "2 center has the top prominent words:\n",
      "[u'pizza', u'restaurants', u'italian', u'wings', u'chicken', u'sandwiches', u'food', u'salad', u'delis', u'burgers']\n",
      "3 center has the top prominent words:\n",
      "[u'fast', u'food', u'restaurants', u'burgers', u'sandwiches', u'mexican', u'chinese', u'chicken', u'wings', u'delis']\n",
      "4 center has the top prominent words:\n",
      "[u'american', u'traditional', u'new', u'breakfast', u'brunch', u'restaurants', u'burgers', u'diners', u'sandwiches', u'cafes']\n"
     ]
    }
   ],
   "source": [
    "for index, point in enumerate(kmeans_cluster.cluster_centers_):\n",
    "    print('%d center has the top prominent words:' % (index))\n",
    "    print(get_top_values(point, n, vocab))"
   ]
  },
  {
   "cell_type": "markdown",
   "metadata": {},
   "source": [
    "## Extra Credit #4: What are the characteristics of each of the clustered  ? For each cluster, which restaurant can best represent (\"define\") its cluster?\n",
    "Hint: how to interpret \"best\"?"
   ]
  },
  {
   "cell_type": "markdown",
   "metadata": {
    "collapsed": true
   },
   "source": [
    "How to define 'best represent'? In my opinion, the restaurant is considered to be best representative to the cluster when the distance or similarity is the smallest. Therefore, find the best representative one by comparing the metrics."
   ]
  },
  {
   "cell_type": "code",
   "execution_count": 101,
   "metadata": {
    "collapsed": false
   },
   "outputs": [],
   "source": [
    "from scipy.spatial.distance import euclidean\n",
    "\n",
    "cluster_center = {}\n",
    "shape = category_vector.shape\n",
    "for i in xrange(shape[0]):\n",
    "    distance = euclidean(category_vector[i], kmeans_cluster.cluster_centers_[category_label[i]])\n",
    "    if category_label[i] in cluster_center:\n",
    "        if cluster_center[category_label[i]][1] >= distance:\n",
    "            cluster_center[category_label[i]] = [i, distance]\n",
    "    else:\n",
    "        cluster_center[category_label[i]] = [i, distance]\n"
   ]
  },
  {
   "cell_type": "code",
   "execution_count": 102,
   "metadata": {
    "collapsed": false
   },
   "outputs": [
    {
     "name": "stdout",
     "output_type": "stream",
     "text": [
      "cluster Number: 0\n",
      "best represent: Japanese, Bars, Nightlife, American (New), Restaurants, Sushi Bars\n",
      "cluster Number: 1\n",
      "best represent: Mexican, Restaurants, Food\n",
      "cluster Number: 2\n",
      "best represent: Restaurants, Pizza\n",
      "cluster Number: 3\n",
      "best represent: Restaurants, Fast Food\n",
      "cluster Number: 4\n",
      "best represent: American (New), Restaurants, American (Traditional), Breakfast & Brunch\n"
     ]
    }
   ],
   "source": [
    "for key, value in cluster_center.items():\n",
    "    print('cluster Number: %d' % key)\n",
    "    print('best represent: %s' % category_name[value[0]])"
   ]
  },
  {
   "cell_type": "markdown",
   "metadata": {},
   "source": [
    "## Extra Credit #5: Can you think of other use cases that clustering can be used? \n",
    "Hint: of course you can make use of other yelp dataset. You can try anything you want as long as you can explain it."
   ]
  },
  {
   "cell_type": "code",
   "execution_count": null,
   "metadata": {
    "collapsed": true
   },
   "outputs": [],
   "source": []
  },
  {
   "cell_type": "code",
   "execution_count": 103,
   "metadata": {
    "collapsed": true
   },
   "outputs": [],
   "source": [
    "# To be implemented"
   ]
  },
  {
   "cell_type": "code",
   "execution_count": null,
   "metadata": {
    "collapsed": true
   },
   "outputs": [],
   "source": []
  }
 ],
 "metadata": {
  "anaconda-cloud": {},
  "kernelspec": {
   "display_name": "Python 2",
   "language": "python",
   "name": "python2"
  },
  "language_info": {
   "codemirror_mode": {
    "name": "ipython",
    "version": 2
   },
   "file_extension": ".py",
   "mimetype": "text/x-python",
   "name": "python",
   "nbconvert_exporter": "python",
   "pygments_lexer": "ipython2",
   "version": "2.7.12"
  }
 },
 "nbformat": 4,
 "nbformat_minor": 1
}
