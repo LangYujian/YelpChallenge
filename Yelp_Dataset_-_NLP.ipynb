{
 "cells": [
  {
   "cell_type": "markdown",
   "metadata": {},
   "source": [
    "# Yelp Data Challenge - NLP\n",
    "\n",
    "BitTiger DS501\n",
    "\n",
    "Jun 2017"
   ]
  },
  {
   "cell_type": "code",
   "execution_count": 1,
   "metadata": {
    "collapsed": true
   },
   "outputs": [],
   "source": [
    "import pandas as pd"
   ]
  },
  {
   "cell_type": "code",
   "execution_count": 2,
   "metadata": {
    "collapsed": true
   },
   "outputs": [],
   "source": [
    "df = pd.read_csv('data/last_2_years_restaurant_reviews.csv')"
   ]
  },
  {
   "cell_type": "code",
   "execution_count": 3,
   "metadata": {
    "collapsed": false
   },
   "outputs": [
    {
     "data": {
      "text/html": [
       "<div>\n",
       "<style>\n",
       "    .dataframe thead tr:only-child th {\n",
       "        text-align: right;\n",
       "    }\n",
       "\n",
       "    .dataframe thead th {\n",
       "        text-align: left;\n",
       "    }\n",
       "\n",
       "    .dataframe tbody tr th {\n",
       "        vertical-align: top;\n",
       "    }\n",
       "</style>\n",
       "<table border=\"1\" class=\"dataframe\">\n",
       "  <thead>\n",
       "    <tr style=\"text-align: right;\">\n",
       "      <th></th>\n",
       "      <th>business_id</th>\n",
       "      <th>name</th>\n",
       "      <th>categories</th>\n",
       "      <th>avg_stars</th>\n",
       "      <th>cool</th>\n",
       "      <th>date</th>\n",
       "      <th>funny</th>\n",
       "      <th>review_id</th>\n",
       "      <th>stars</th>\n",
       "      <th>text</th>\n",
       "      <th>type</th>\n",
       "      <th>useful</th>\n",
       "      <th>user_id</th>\n",
       "      <th>count</th>\n",
       "    </tr>\n",
       "  </thead>\n",
       "  <tbody>\n",
       "    <tr>\n",
       "      <th>0</th>\n",
       "      <td>--9e1ONYQuAa-CB_Rrw7Tw</td>\n",
       "      <td>Delmonico Steakhouse</td>\n",
       "      <td>[Steakhouses, Restaurants, Cajun/Creole]</td>\n",
       "      <td>4.0</td>\n",
       "      <td>0</td>\n",
       "      <td>2015-06-26</td>\n",
       "      <td>0</td>\n",
       "      <td>nCqdz-NW64KazpxqnDr0sQ</td>\n",
       "      <td>1</td>\n",
       "      <td>I mainly went for the ceasar salad prepared ta...</td>\n",
       "      <td>review</td>\n",
       "      <td>0</td>\n",
       "      <td>0XVzm4kVIAaH4eQAxWbhvw</td>\n",
       "      <td>318</td>\n",
       "    </tr>\n",
       "    <tr>\n",
       "      <th>1</th>\n",
       "      <td>--9e1ONYQuAa-CB_Rrw7Tw</td>\n",
       "      <td>Delmonico Steakhouse</td>\n",
       "      <td>[Steakhouses, Restaurants, Cajun/Creole]</td>\n",
       "      <td>4.0</td>\n",
       "      <td>0</td>\n",
       "      <td>2015-06-29</td>\n",
       "      <td>0</td>\n",
       "      <td>iwx6s6yQxc7yjS7NFANZig</td>\n",
       "      <td>4</td>\n",
       "      <td>Nice atmosphere and wonderful service. I had t...</td>\n",
       "      <td>review</td>\n",
       "      <td>0</td>\n",
       "      <td>2aeNFntqY2QDZLADNo8iQQ</td>\n",
       "      <td>318</td>\n",
       "    </tr>\n",
       "    <tr>\n",
       "      <th>2</th>\n",
       "      <td>--9e1ONYQuAa-CB_Rrw7Tw</td>\n",
       "      <td>Delmonico Steakhouse</td>\n",
       "      <td>[Steakhouses, Restaurants, Cajun/Creole]</td>\n",
       "      <td>4.0</td>\n",
       "      <td>0</td>\n",
       "      <td>2015-04-05</td>\n",
       "      <td>0</td>\n",
       "      <td>2HrBENXZTiitcCJfzkELgA</td>\n",
       "      <td>2</td>\n",
       "      <td>To be honest it really quit aweful. First the ...</td>\n",
       "      <td>review</td>\n",
       "      <td>0</td>\n",
       "      <td>WFhv5pMJRDPWSyLnKiWFXA</td>\n",
       "      <td>318</td>\n",
       "    </tr>\n",
       "    <tr>\n",
       "      <th>3</th>\n",
       "      <td>--9e1ONYQuAa-CB_Rrw7Tw</td>\n",
       "      <td>Delmonico Steakhouse</td>\n",
       "      <td>[Steakhouses, Restaurants, Cajun/Creole]</td>\n",
       "      <td>4.0</td>\n",
       "      <td>0</td>\n",
       "      <td>2016-02-16</td>\n",
       "      <td>0</td>\n",
       "      <td>6YNPXoq41qTMZ2TEi0BYUA</td>\n",
       "      <td>2</td>\n",
       "      <td>The food was decent, but the service was defin...</td>\n",
       "      <td>review</td>\n",
       "      <td>0</td>\n",
       "      <td>2S6gWE-K3DHNcKYYSgN7xA</td>\n",
       "      <td>318</td>\n",
       "    </tr>\n",
       "    <tr>\n",
       "      <th>4</th>\n",
       "      <td>--9e1ONYQuAa-CB_Rrw7Tw</td>\n",
       "      <td>Delmonico Steakhouse</td>\n",
       "      <td>[Steakhouses, Restaurants, Cajun/Creole]</td>\n",
       "      <td>4.0</td>\n",
       "      <td>0</td>\n",
       "      <td>2016-02-08</td>\n",
       "      <td>1</td>\n",
       "      <td>4bQrVUiRZ642odcKCS0OhQ</td>\n",
       "      <td>2</td>\n",
       "      <td>If you're looking for craptastic service and m...</td>\n",
       "      <td>review</td>\n",
       "      <td>1</td>\n",
       "      <td>rCTVWx_Tws2jWi-K89iEyw</td>\n",
       "      <td>318</td>\n",
       "    </tr>\n",
       "  </tbody>\n",
       "</table>\n",
       "</div>"
      ],
      "text/plain": [
       "              business_id                  name  \\\n",
       "0  --9e1ONYQuAa-CB_Rrw7Tw  Delmonico Steakhouse   \n",
       "1  --9e1ONYQuAa-CB_Rrw7Tw  Delmonico Steakhouse   \n",
       "2  --9e1ONYQuAa-CB_Rrw7Tw  Delmonico Steakhouse   \n",
       "3  --9e1ONYQuAa-CB_Rrw7Tw  Delmonico Steakhouse   \n",
       "4  --9e1ONYQuAa-CB_Rrw7Tw  Delmonico Steakhouse   \n",
       "\n",
       "                                 categories  avg_stars  cool        date  \\\n",
       "0  [Steakhouses, Restaurants, Cajun/Creole]        4.0     0  2015-06-26   \n",
       "1  [Steakhouses, Restaurants, Cajun/Creole]        4.0     0  2015-06-29   \n",
       "2  [Steakhouses, Restaurants, Cajun/Creole]        4.0     0  2015-04-05   \n",
       "3  [Steakhouses, Restaurants, Cajun/Creole]        4.0     0  2016-02-16   \n",
       "4  [Steakhouses, Restaurants, Cajun/Creole]        4.0     0  2016-02-08   \n",
       "\n",
       "   funny               review_id  stars  \\\n",
       "0      0  nCqdz-NW64KazpxqnDr0sQ      1   \n",
       "1      0  iwx6s6yQxc7yjS7NFANZig      4   \n",
       "2      0  2HrBENXZTiitcCJfzkELgA      2   \n",
       "3      0  6YNPXoq41qTMZ2TEi0BYUA      2   \n",
       "4      1  4bQrVUiRZ642odcKCS0OhQ      2   \n",
       "\n",
       "                                                text    type  useful  \\\n",
       "0  I mainly went for the ceasar salad prepared ta...  review       0   \n",
       "1  Nice atmosphere and wonderful service. I had t...  review       0   \n",
       "2  To be honest it really quit aweful. First the ...  review       0   \n",
       "3  The food was decent, but the service was defin...  review       0   \n",
       "4  If you're looking for craptastic service and m...  review       1   \n",
       "\n",
       "                  user_id  count  \n",
       "0  0XVzm4kVIAaH4eQAxWbhvw    318  \n",
       "1  2aeNFntqY2QDZLADNo8iQQ    318  \n",
       "2  WFhv5pMJRDPWSyLnKiWFXA    318  \n",
       "3  2S6gWE-K3DHNcKYYSgN7xA    318  \n",
       "4  rCTVWx_Tws2jWi-K89iEyw    318  "
      ]
     },
     "execution_count": 3,
     "metadata": {},
     "output_type": "execute_result"
    }
   ],
   "source": [
    "df.head()"
   ]
  },
  {
   "cell_type": "markdown",
   "metadata": {},
   "source": [
    "### Define your feature variables, here is the text of the review"
   ]
  },
  {
   "cell_type": "code",
   "execution_count": 4,
   "metadata": {
    "collapsed": false
   },
   "outputs": [
    {
     "data": {
      "text/html": [
       "<div>\n",
       "<style>\n",
       "    .dataframe thead tr:only-child th {\n",
       "        text-align: right;\n",
       "    }\n",
       "\n",
       "    .dataframe thead th {\n",
       "        text-align: left;\n",
       "    }\n",
       "\n",
       "    .dataframe tbody tr th {\n",
       "        vertical-align: top;\n",
       "    }\n",
       "</style>\n",
       "<table border=\"1\" class=\"dataframe\">\n",
       "  <thead>\n",
       "    <tr style=\"text-align: right;\">\n",
       "      <th></th>\n",
       "      <th>business_id</th>\n",
       "      <th>text</th>\n",
       "    </tr>\n",
       "  </thead>\n",
       "  <tbody>\n",
       "    <tr>\n",
       "      <th>0</th>\n",
       "      <td>--9e1ONYQuAa-CB_Rrw7Tw</td>\n",
       "      <td>I mainly went for the ceasar salad prepared ta...</td>\n",
       "    </tr>\n",
       "    <tr>\n",
       "      <th>1</th>\n",
       "      <td>--9e1ONYQuAa-CB_Rrw7Tw</td>\n",
       "      <td>Nice atmosphere and wonderful service. I had t...</td>\n",
       "    </tr>\n",
       "    <tr>\n",
       "      <th>2</th>\n",
       "      <td>--9e1ONYQuAa-CB_Rrw7Tw</td>\n",
       "      <td>To be honest it really quit aweful. First the ...</td>\n",
       "    </tr>\n",
       "    <tr>\n",
       "      <th>3</th>\n",
       "      <td>--9e1ONYQuAa-CB_Rrw7Tw</td>\n",
       "      <td>The food was decent, but the service was defin...</td>\n",
       "    </tr>\n",
       "    <tr>\n",
       "      <th>4</th>\n",
       "      <td>--9e1ONYQuAa-CB_Rrw7Tw</td>\n",
       "      <td>If you're looking for craptastic service and m...</td>\n",
       "    </tr>\n",
       "  </tbody>\n",
       "</table>\n",
       "</div>"
      ],
      "text/plain": [
       "              business_id                                               text\n",
       "0  --9e1ONYQuAa-CB_Rrw7Tw  I mainly went for the ceasar salad prepared ta...\n",
       "1  --9e1ONYQuAa-CB_Rrw7Tw  Nice atmosphere and wonderful service. I had t...\n",
       "2  --9e1ONYQuAa-CB_Rrw7Tw  To be honest it really quit aweful. First the ...\n",
       "3  --9e1ONYQuAa-CB_Rrw7Tw  The food was decent, but the service was defin...\n",
       "4  --9e1ONYQuAa-CB_Rrw7Tw  If you're looking for craptastic service and m..."
      ]
     },
     "execution_count": 4,
     "metadata": {},
     "output_type": "execute_result"
    }
   ],
   "source": [
    "# Take the values of the column that contains review text data, save to a variable named \"documents\"\n",
    "df.groupby('business_id')\n",
    "reviews = df[['business_id', 'text']]\n",
    "reviews.head()\n",
    "# the columns is text and its index is business_id"
   ]
  },
  {
   "cell_type": "code",
   "execution_count": 5,
   "metadata": {
    "collapsed": false
   },
   "outputs": [
    {
     "name": "stdout",
     "output_type": "stream",
     "text": [
      "(348016, 2)\n"
     ]
    },
    {
     "data": {
      "text/html": [
       "<div>\n",
       "<style>\n",
       "    .dataframe thead tr:only-child th {\n",
       "        text-align: right;\n",
       "    }\n",
       "\n",
       "    .dataframe thead th {\n",
       "        text-align: left;\n",
       "    }\n",
       "\n",
       "    .dataframe tbody tr th {\n",
       "        vertical-align: top;\n",
       "    }\n",
       "</style>\n",
       "<table border=\"1\" class=\"dataframe\">\n",
       "  <thead>\n",
       "    <tr style=\"text-align: right;\">\n",
       "      <th></th>\n",
       "      <th>business_id</th>\n",
       "      <th>text</th>\n",
       "    </tr>\n",
       "  </thead>\n",
       "  <tbody>\n",
       "    <tr>\n",
       "      <th>0</th>\n",
       "      <td>--9e1ONYQuAa-CB_Rrw7Tw</td>\n",
       "      <td>I mainly went for the ceasar salad prepared ta...</td>\n",
       "    </tr>\n",
       "    <tr>\n",
       "      <th>1</th>\n",
       "      <td>--9e1ONYQuAa-CB_Rrw7Tw</td>\n",
       "      <td>Nice atmosphere and wonderful service. I had t...</td>\n",
       "    </tr>\n",
       "    <tr>\n",
       "      <th>2</th>\n",
       "      <td>--9e1ONYQuAa-CB_Rrw7Tw</td>\n",
       "      <td>To be honest it really quit aweful. First the ...</td>\n",
       "    </tr>\n",
       "    <tr>\n",
       "      <th>3</th>\n",
       "      <td>--9e1ONYQuAa-CB_Rrw7Tw</td>\n",
       "      <td>The food was decent, but the service was defin...</td>\n",
       "    </tr>\n",
       "    <tr>\n",
       "      <th>4</th>\n",
       "      <td>--9e1ONYQuAa-CB_Rrw7Tw</td>\n",
       "      <td>If you're looking for craptastic service and m...</td>\n",
       "    </tr>\n",
       "  </tbody>\n",
       "</table>\n",
       "</div>"
      ],
      "text/plain": [
       "              business_id                                               text\n",
       "0  --9e1ONYQuAa-CB_Rrw7Tw  I mainly went for the ceasar salad prepared ta...\n",
       "1  --9e1ONYQuAa-CB_Rrw7Tw  Nice atmosphere and wonderful service. I had t...\n",
       "2  --9e1ONYQuAa-CB_Rrw7Tw  To be honest it really quit aweful. First the ...\n",
       "3  --9e1ONYQuAa-CB_Rrw7Tw  The food was decent, but the service was defin...\n",
       "4  --9e1ONYQuAa-CB_Rrw7Tw  If you're looking for craptastic service and m..."
      ]
     },
     "execution_count": 5,
     "metadata": {},
     "output_type": "execute_result"
    }
   ],
   "source": [
    "# inspect your documents, e.g. check the size, take a peek at elements of the numpy array\n",
    "print(reviews.shape)\n",
    "reviews.head()"
   ]
  },
  {
   "cell_type": "markdown",
   "metadata": {},
   "source": [
    "### Define your target variable (any categorical variable that may be meaningful)"
   ]
  },
  {
   "cell_type": "markdown",
   "metadata": {},
   "source": [
    "#### For example, I am interested in perfect (5 stars) and imperfect (1-4 stars) rating"
   ]
  },
  {
   "cell_type": "code",
   "execution_count": 6,
   "metadata": {
    "collapsed": false
   },
   "outputs": [
    {
     "data": {
      "text/html": [
       "<div>\n",
       "<style>\n",
       "    .dataframe thead tr:only-child th {\n",
       "        text-align: right;\n",
       "    }\n",
       "\n",
       "    .dataframe thead th {\n",
       "        text-align: left;\n",
       "    }\n",
       "\n",
       "    .dataframe tbody tr th {\n",
       "        vertical-align: top;\n",
       "    }\n",
       "</style>\n",
       "<table border=\"1\" class=\"dataframe\">\n",
       "  <thead>\n",
       "    <tr style=\"text-align: right;\">\n",
       "      <th></th>\n",
       "      <th>business_id</th>\n",
       "      <th>name</th>\n",
       "      <th>categories</th>\n",
       "      <th>avg_stars</th>\n",
       "      <th>cool</th>\n",
       "      <th>date</th>\n",
       "      <th>funny</th>\n",
       "      <th>review_id</th>\n",
       "      <th>stars</th>\n",
       "      <th>text</th>\n",
       "      <th>type</th>\n",
       "      <th>useful</th>\n",
       "      <th>user_id</th>\n",
       "      <th>count</th>\n",
       "      <th>perfect</th>\n",
       "    </tr>\n",
       "  </thead>\n",
       "  <tbody>\n",
       "    <tr>\n",
       "      <th>0</th>\n",
       "      <td>--9e1ONYQuAa-CB_Rrw7Tw</td>\n",
       "      <td>Delmonico Steakhouse</td>\n",
       "      <td>[Steakhouses, Restaurants, Cajun/Creole]</td>\n",
       "      <td>4.0</td>\n",
       "      <td>0</td>\n",
       "      <td>2015-06-26</td>\n",
       "      <td>0</td>\n",
       "      <td>nCqdz-NW64KazpxqnDr0sQ</td>\n",
       "      <td>1</td>\n",
       "      <td>I mainly went for the ceasar salad prepared ta...</td>\n",
       "      <td>review</td>\n",
       "      <td>0</td>\n",
       "      <td>0XVzm4kVIAaH4eQAxWbhvw</td>\n",
       "      <td>318</td>\n",
       "      <td>0</td>\n",
       "    </tr>\n",
       "    <tr>\n",
       "      <th>1</th>\n",
       "      <td>--9e1ONYQuAa-CB_Rrw7Tw</td>\n",
       "      <td>Delmonico Steakhouse</td>\n",
       "      <td>[Steakhouses, Restaurants, Cajun/Creole]</td>\n",
       "      <td>4.0</td>\n",
       "      <td>0</td>\n",
       "      <td>2015-06-29</td>\n",
       "      <td>0</td>\n",
       "      <td>iwx6s6yQxc7yjS7NFANZig</td>\n",
       "      <td>4</td>\n",
       "      <td>Nice atmosphere and wonderful service. I had t...</td>\n",
       "      <td>review</td>\n",
       "      <td>0</td>\n",
       "      <td>2aeNFntqY2QDZLADNo8iQQ</td>\n",
       "      <td>318</td>\n",
       "      <td>0</td>\n",
       "    </tr>\n",
       "    <tr>\n",
       "      <th>2</th>\n",
       "      <td>--9e1ONYQuAa-CB_Rrw7Tw</td>\n",
       "      <td>Delmonico Steakhouse</td>\n",
       "      <td>[Steakhouses, Restaurants, Cajun/Creole]</td>\n",
       "      <td>4.0</td>\n",
       "      <td>0</td>\n",
       "      <td>2015-04-05</td>\n",
       "      <td>0</td>\n",
       "      <td>2HrBENXZTiitcCJfzkELgA</td>\n",
       "      <td>2</td>\n",
       "      <td>To be honest it really quit aweful. First the ...</td>\n",
       "      <td>review</td>\n",
       "      <td>0</td>\n",
       "      <td>WFhv5pMJRDPWSyLnKiWFXA</td>\n",
       "      <td>318</td>\n",
       "      <td>0</td>\n",
       "    </tr>\n",
       "    <tr>\n",
       "      <th>3</th>\n",
       "      <td>--9e1ONYQuAa-CB_Rrw7Tw</td>\n",
       "      <td>Delmonico Steakhouse</td>\n",
       "      <td>[Steakhouses, Restaurants, Cajun/Creole]</td>\n",
       "      <td>4.0</td>\n",
       "      <td>0</td>\n",
       "      <td>2016-02-16</td>\n",
       "      <td>0</td>\n",
       "      <td>6YNPXoq41qTMZ2TEi0BYUA</td>\n",
       "      <td>2</td>\n",
       "      <td>The food was decent, but the service was defin...</td>\n",
       "      <td>review</td>\n",
       "      <td>0</td>\n",
       "      <td>2S6gWE-K3DHNcKYYSgN7xA</td>\n",
       "      <td>318</td>\n",
       "      <td>0</td>\n",
       "    </tr>\n",
       "    <tr>\n",
       "      <th>4</th>\n",
       "      <td>--9e1ONYQuAa-CB_Rrw7Tw</td>\n",
       "      <td>Delmonico Steakhouse</td>\n",
       "      <td>[Steakhouses, Restaurants, Cajun/Creole]</td>\n",
       "      <td>4.0</td>\n",
       "      <td>0</td>\n",
       "      <td>2016-02-08</td>\n",
       "      <td>1</td>\n",
       "      <td>4bQrVUiRZ642odcKCS0OhQ</td>\n",
       "      <td>2</td>\n",
       "      <td>If you're looking for craptastic service and m...</td>\n",
       "      <td>review</td>\n",
       "      <td>1</td>\n",
       "      <td>rCTVWx_Tws2jWi-K89iEyw</td>\n",
       "      <td>318</td>\n",
       "      <td>0</td>\n",
       "    </tr>\n",
       "  </tbody>\n",
       "</table>\n",
       "</div>"
      ],
      "text/plain": [
       "              business_id                  name  \\\n",
       "0  --9e1ONYQuAa-CB_Rrw7Tw  Delmonico Steakhouse   \n",
       "1  --9e1ONYQuAa-CB_Rrw7Tw  Delmonico Steakhouse   \n",
       "2  --9e1ONYQuAa-CB_Rrw7Tw  Delmonico Steakhouse   \n",
       "3  --9e1ONYQuAa-CB_Rrw7Tw  Delmonico Steakhouse   \n",
       "4  --9e1ONYQuAa-CB_Rrw7Tw  Delmonico Steakhouse   \n",
       "\n",
       "                                 categories  avg_stars  cool        date  \\\n",
       "0  [Steakhouses, Restaurants, Cajun/Creole]        4.0     0  2015-06-26   \n",
       "1  [Steakhouses, Restaurants, Cajun/Creole]        4.0     0  2015-06-29   \n",
       "2  [Steakhouses, Restaurants, Cajun/Creole]        4.0     0  2015-04-05   \n",
       "3  [Steakhouses, Restaurants, Cajun/Creole]        4.0     0  2016-02-16   \n",
       "4  [Steakhouses, Restaurants, Cajun/Creole]        4.0     0  2016-02-08   \n",
       "\n",
       "   funny               review_id  stars  \\\n",
       "0      0  nCqdz-NW64KazpxqnDr0sQ      1   \n",
       "1      0  iwx6s6yQxc7yjS7NFANZig      4   \n",
       "2      0  2HrBENXZTiitcCJfzkELgA      2   \n",
       "3      0  6YNPXoq41qTMZ2TEi0BYUA      2   \n",
       "4      1  4bQrVUiRZ642odcKCS0OhQ      2   \n",
       "\n",
       "                                                text    type  useful  \\\n",
       "0  I mainly went for the ceasar salad prepared ta...  review       0   \n",
       "1  Nice atmosphere and wonderful service. I had t...  review       0   \n",
       "2  To be honest it really quit aweful. First the ...  review       0   \n",
       "3  The food was decent, but the service was defin...  review       0   \n",
       "4  If you're looking for craptastic service and m...  review       1   \n",
       "\n",
       "                  user_id  count  perfect  \n",
       "0  0XVzm4kVIAaH4eQAxWbhvw    318        0  \n",
       "1  2aeNFntqY2QDZLADNo8iQQ    318        0  \n",
       "2  WFhv5pMJRDPWSyLnKiWFXA    318        0  \n",
       "3  2S6gWE-K3DHNcKYYSgN7xA    318        0  \n",
       "4  rCTVWx_Tws2jWi-K89iEyw    318        0  "
      ]
     },
     "execution_count": 6,
     "metadata": {},
     "output_type": "execute_result"
    }
   ],
   "source": [
    "# Make a column and take the values, save to a variable named \"target\"\n",
    "df['perfect'] = (df['stars'] == 5).astype(int)\n",
    "df.head()"
   ]
  },
  {
   "cell_type": "code",
   "execution_count": 7,
   "metadata": {
    "collapsed": false
   },
   "outputs": [
    {
     "data": {
      "text/html": [
       "<div>\n",
       "<style>\n",
       "    .dataframe thead tr:only-child th {\n",
       "        text-align: right;\n",
       "    }\n",
       "\n",
       "    .dataframe thead th {\n",
       "        text-align: left;\n",
       "    }\n",
       "\n",
       "    .dataframe tbody tr th {\n",
       "        vertical-align: top;\n",
       "    }\n",
       "</style>\n",
       "<table border=\"1\" class=\"dataframe\">\n",
       "  <thead>\n",
       "    <tr style=\"text-align: right;\">\n",
       "      <th></th>\n",
       "      <th>business_id</th>\n",
       "      <th>name</th>\n",
       "      <th>categories</th>\n",
       "      <th>avg_stars</th>\n",
       "      <th>cool</th>\n",
       "      <th>date</th>\n",
       "      <th>funny</th>\n",
       "      <th>review_id</th>\n",
       "      <th>stars</th>\n",
       "      <th>text</th>\n",
       "      <th>type</th>\n",
       "      <th>useful</th>\n",
       "      <th>user_id</th>\n",
       "      <th>count</th>\n",
       "      <th>perfect</th>\n",
       "    </tr>\n",
       "  </thead>\n",
       "  <tbody>\n",
       "    <tr>\n",
       "      <th>256704</th>\n",
       "      <td>hMh9XOwNQcu31NAOCqhAEw</td>\n",
       "      <td>Taste of India</td>\n",
       "      <td>[Restaurants, Vegetarian, Indian]</td>\n",
       "      <td>3.5</td>\n",
       "      <td>0</td>\n",
       "      <td>2015-03-25</td>\n",
       "      <td>0</td>\n",
       "      <td>LjaIOTbBOtvoKjmqNr2ezA</td>\n",
       "      <td>4</td>\n",
       "      <td>Good lunch Buffet. I think it might have been ...</td>\n",
       "      <td>review</td>\n",
       "      <td>0</td>\n",
       "      <td>rUQnrYdzN436D4ZnbPgbvg</td>\n",
       "      <td>5</td>\n",
       "      <td>0</td>\n",
       "    </tr>\n",
       "    <tr>\n",
       "      <th>256705</th>\n",
       "      <td>hMh9XOwNQcu31NAOCqhAEw</td>\n",
       "      <td>Taste of India</td>\n",
       "      <td>[Restaurants, Vegetarian, Indian]</td>\n",
       "      <td>3.5</td>\n",
       "      <td>0</td>\n",
       "      <td>2015-02-28</td>\n",
       "      <td>0</td>\n",
       "      <td>gSOM50eyb5GkVC7mwx8MWw</td>\n",
       "      <td>5</td>\n",
       "      <td>Very good food and service. I was craving a go...</td>\n",
       "      <td>review</td>\n",
       "      <td>0</td>\n",
       "      <td>ZM-Vy2qJj9j9If0Ku1Q2yw</td>\n",
       "      <td>5</td>\n",
       "      <td>1</td>\n",
       "    </tr>\n",
       "    <tr>\n",
       "      <th>256706</th>\n",
       "      <td>hMh9XOwNQcu31NAOCqhAEw</td>\n",
       "      <td>Taste of India</td>\n",
       "      <td>[Restaurants, Vegetarian, Indian]</td>\n",
       "      <td>3.5</td>\n",
       "      <td>0</td>\n",
       "      <td>2015-06-04</td>\n",
       "      <td>0</td>\n",
       "      <td>CtPAPmoX42MJ_tyN7mqfGA</td>\n",
       "      <td>1</td>\n",
       "      <td>Went in for Indian food and found out that the...</td>\n",
       "      <td>review</td>\n",
       "      <td>0</td>\n",
       "      <td>E_-RZVljB9JDWdZYpJVqzQ</td>\n",
       "      <td>5</td>\n",
       "      <td>0</td>\n",
       "    </tr>\n",
       "    <tr>\n",
       "      <th>256707</th>\n",
       "      <td>hMh9XOwNQcu31NAOCqhAEw</td>\n",
       "      <td>Taste of India</td>\n",
       "      <td>[Restaurants, Vegetarian, Indian]</td>\n",
       "      <td>3.5</td>\n",
       "      <td>0</td>\n",
       "      <td>2015-02-16</td>\n",
       "      <td>0</td>\n",
       "      <td>5PWZ31lBknEodrQnV0CRtw</td>\n",
       "      <td>4</td>\n",
       "      <td>Really nice find in Vegas, and a short trip fr...</td>\n",
       "      <td>review</td>\n",
       "      <td>0</td>\n",
       "      <td>4h5GCpe-RSTgn0F9WuSB2w</td>\n",
       "      <td>5</td>\n",
       "      <td>0</td>\n",
       "    </tr>\n",
       "    <tr>\n",
       "      <th>256708</th>\n",
       "      <td>hMh9XOwNQcu31NAOCqhAEw</td>\n",
       "      <td>Taste of India</td>\n",
       "      <td>[Restaurants, Vegetarian, Indian]</td>\n",
       "      <td>3.5</td>\n",
       "      <td>0</td>\n",
       "      <td>2015-01-21</td>\n",
       "      <td>0</td>\n",
       "      <td>mtyUa-eAMELfypOfGESpqw</td>\n",
       "      <td>4</td>\n",
       "      <td>I don't give 5 stars but I will say this almos...</td>\n",
       "      <td>review</td>\n",
       "      <td>1</td>\n",
       "      <td>SHjVqS5taDjYoLm-IemL9A</td>\n",
       "      <td>5</td>\n",
       "      <td>0</td>\n",
       "    </tr>\n",
       "  </tbody>\n",
       "</table>\n",
       "</div>"
      ],
      "text/plain": [
       "                   business_id            name  \\\n",
       "256704  hMh9XOwNQcu31NAOCqhAEw  Taste of India   \n",
       "256705  hMh9XOwNQcu31NAOCqhAEw  Taste of India   \n",
       "256706  hMh9XOwNQcu31NAOCqhAEw  Taste of India   \n",
       "256707  hMh9XOwNQcu31NAOCqhAEw  Taste of India   \n",
       "256708  hMh9XOwNQcu31NAOCqhAEw  Taste of India   \n",
       "\n",
       "                               categories  avg_stars  cool        date  funny  \\\n",
       "256704  [Restaurants, Vegetarian, Indian]        3.5     0  2015-03-25      0   \n",
       "256705  [Restaurants, Vegetarian, Indian]        3.5     0  2015-02-28      0   \n",
       "256706  [Restaurants, Vegetarian, Indian]        3.5     0  2015-06-04      0   \n",
       "256707  [Restaurants, Vegetarian, Indian]        3.5     0  2015-02-16      0   \n",
       "256708  [Restaurants, Vegetarian, Indian]        3.5     0  2015-01-21      0   \n",
       "\n",
       "                     review_id  stars  \\\n",
       "256704  LjaIOTbBOtvoKjmqNr2ezA      4   \n",
       "256705  gSOM50eyb5GkVC7mwx8MWw      5   \n",
       "256706  CtPAPmoX42MJ_tyN7mqfGA      1   \n",
       "256707  5PWZ31lBknEodrQnV0CRtw      4   \n",
       "256708  mtyUa-eAMELfypOfGESpqw      4   \n",
       "\n",
       "                                                     text    type  useful  \\\n",
       "256704  Good lunch Buffet. I think it might have been ...  review       0   \n",
       "256705  Very good food and service. I was craving a go...  review       0   \n",
       "256706  Went in for Indian food and found out that the...  review       0   \n",
       "256707  Really nice find in Vegas, and a short trip fr...  review       0   \n",
       "256708  I don't give 5 stars but I will say this almos...  review       1   \n",
       "\n",
       "                       user_id  count  perfect  \n",
       "256704  rUQnrYdzN436D4ZnbPgbvg      5        0  \n",
       "256705  ZM-Vy2qJj9j9If0Ku1Q2yw      5        1  \n",
       "256706  E_-RZVljB9JDWdZYpJVqzQ      5        0  \n",
       "256707  4h5GCpe-RSTgn0F9WuSB2w      5        0  \n",
       "256708  SHjVqS5taDjYoLm-IemL9A      5        0  "
      ]
     },
     "execution_count": 7,
     "metadata": {},
     "output_type": "execute_result"
    }
   ],
   "source": [
    "df[df['business_id'] == 'hMh9XOwNQcu31NAOCqhAEw']"
   ]
  },
  {
   "cell_type": "markdown",
   "metadata": {},
   "source": [
    "#### You may want to look at the statistic of the target variable"
   ]
  },
  {
   "cell_type": "code",
   "execution_count": 8,
   "metadata": {
    "collapsed": false
   },
   "outputs": [
    {
     "name": "stdout",
     "output_type": "stream",
     "text": [
      "0.2\n"
     ]
    },
    {
     "data": {
      "text/html": [
       "<div>\n",
       "<style>\n",
       "    .dataframe thead tr:only-child th {\n",
       "        text-align: right;\n",
       "    }\n",
       "\n",
       "    .dataframe thead th {\n",
       "        text-align: left;\n",
       "    }\n",
       "\n",
       "    .dataframe tbody tr th {\n",
       "        vertical-align: top;\n",
       "    }\n",
       "</style>\n",
       "<table border=\"1\" class=\"dataframe\">\n",
       "  <thead>\n",
       "    <tr style=\"text-align: right;\">\n",
       "      <th></th>\n",
       "      <th>avg_stars</th>\n",
       "      <th>cool</th>\n",
       "      <th>funny</th>\n",
       "      <th>stars</th>\n",
       "      <th>useful</th>\n",
       "      <th>count</th>\n",
       "      <th>perfect</th>\n",
       "    </tr>\n",
       "    <tr>\n",
       "      <th>business_id</th>\n",
       "      <th></th>\n",
       "      <th></th>\n",
       "      <th></th>\n",
       "      <th></th>\n",
       "      <th></th>\n",
       "      <th></th>\n",
       "      <th></th>\n",
       "    </tr>\n",
       "  </thead>\n",
       "  <tbody>\n",
       "    <tr>\n",
       "      <th>--9e1ONYQuAa-CB_Rrw7Tw</th>\n",
       "      <td>4.0</td>\n",
       "      <td>0.748428</td>\n",
       "      <td>0.591195</td>\n",
       "      <td>4.194969</td>\n",
       "      <td>1.018868</td>\n",
       "      <td>318.0</td>\n",
       "      <td>0.559748</td>\n",
       "    </tr>\n",
       "    <tr>\n",
       "      <th>-1vfRrlnNnNJ5boOVghMPA</th>\n",
       "      <td>3.0</td>\n",
       "      <td>0.357143</td>\n",
       "      <td>0.428571</td>\n",
       "      <td>3.000000</td>\n",
       "      <td>0.357143</td>\n",
       "      <td>14.0</td>\n",
       "      <td>0.285714</td>\n",
       "    </tr>\n",
       "    <tr>\n",
       "      <th>-3zffZUHoY8bQjGfPSoBKQ</th>\n",
       "      <td>4.0</td>\n",
       "      <td>0.571429</td>\n",
       "      <td>0.515873</td>\n",
       "      <td>3.769841</td>\n",
       "      <td>0.960317</td>\n",
       "      <td>126.0</td>\n",
       "      <td>0.420635</td>\n",
       "    </tr>\n",
       "    <tr>\n",
       "      <th>-8R_-EkGpUhBk55K9Dd4mg</th>\n",
       "      <td>3.5</td>\n",
       "      <td>0.485714</td>\n",
       "      <td>0.428571</td>\n",
       "      <td>3.685714</td>\n",
       "      <td>0.600000</td>\n",
       "      <td>35.0</td>\n",
       "      <td>0.400000</td>\n",
       "    </tr>\n",
       "    <tr>\n",
       "      <th>-9YyInW1wapzdNZrhQJ9dg</th>\n",
       "      <td>2.5</td>\n",
       "      <td>0.160000</td>\n",
       "      <td>0.300000</td>\n",
       "      <td>2.100000</td>\n",
       "      <td>0.580000</td>\n",
       "      <td>50.0</td>\n",
       "      <td>0.080000</td>\n",
       "    </tr>\n",
       "  </tbody>\n",
       "</table>\n",
       "</div>"
      ],
      "text/plain": [
       "                        avg_stars      cool     funny     stars    useful  \\\n",
       "business_id                                                                 \n",
       "--9e1ONYQuAa-CB_Rrw7Tw        4.0  0.748428  0.591195  4.194969  1.018868   \n",
       "-1vfRrlnNnNJ5boOVghMPA        3.0  0.357143  0.428571  3.000000  0.357143   \n",
       "-3zffZUHoY8bQjGfPSoBKQ        4.0  0.571429  0.515873  3.769841  0.960317   \n",
       "-8R_-EkGpUhBk55K9Dd4mg        3.5  0.485714  0.428571  3.685714  0.600000   \n",
       "-9YyInW1wapzdNZrhQJ9dg        2.5  0.160000  0.300000  2.100000  0.580000   \n",
       "\n",
       "                        count   perfect  \n",
       "business_id                              \n",
       "--9e1ONYQuAa-CB_Rrw7Tw  318.0  0.559748  \n",
       "-1vfRrlnNnNJ5boOVghMPA   14.0  0.285714  \n",
       "-3zffZUHoY8bQjGfPSoBKQ  126.0  0.420635  \n",
       "-8R_-EkGpUhBk55K9Dd4mg   35.0  0.400000  \n",
       "-9YyInW1wapzdNZrhQJ9dg   50.0  0.080000  "
      ]
     },
     "execution_count": 8,
     "metadata": {},
     "output_type": "execute_result"
    }
   ],
   "source": [
    "# Check what is the mean 'perfect' value for each business_id\n",
    "df_perfect_percent = df.groupby('business_id').mean()\n",
    "#df_perfect_percent.head()\n",
    "print(df_perfect_percent.at['hMh9XOwNQcu31NAOCqhAEw', 'perfect'])\n",
    "df_perfect_percent.head()"
   ]
  },
  {
   "cell_type": "markdown",
   "metadata": {},
   "source": [
    "#### The statistics should be correct"
   ]
  },
  {
   "cell_type": "markdown",
   "metadata": {},
   "source": [
    "## Let's create training dataset and test dataset"
   ]
  },
  {
   "cell_type": "code",
   "execution_count": 9,
   "metadata": {
    "collapsed": false
   },
   "outputs": [
    {
     "name": "stderr",
     "output_type": "stream",
     "text": [
      "/usr/local/lib/python2.7/site-packages/sklearn/cross_validation.py:44: DeprecationWarning: This module was deprecated in version 0.18 in favor of the model_selection module into which all the refactored classes and functions are moved. Also note that the interface of the new CV iterators are different from that of this module. This module will be removed in 0.20.\n",
      "  \"This module will be removed in 0.20.\", DeprecationWarning)\n"
     ]
    }
   ],
   "source": [
    "from sklearn.cross_validation import train_test_split"
   ]
  },
  {
   "cell_type": "code",
   "execution_count": 10,
   "metadata": {
    "collapsed": false
   },
   "outputs": [],
   "source": [
    "# Documents is your X, target is your y\n",
    "# Now split the data to training set and test set\n",
    "df.head(2)\n",
    "train_data = df['text'].tolist()\n",
    "train_target = df['perfect'].tolist()"
   ]
  },
  {
   "cell_type": "code",
   "execution_count": 11,
   "metadata": {
    "collapsed": false
   },
   "outputs": [],
   "source": [
    "# Split to documents_train, documents_test, target_train, target_test\n",
    "documents_train, documents_test, target_train, target_test = train_test_split(train_data,train_target,test_size=0.3, random_state=0)"
   ]
  },
  {
   "cell_type": "code",
   "execution_count": 12,
   "metadata": {
    "collapsed": false
   },
   "outputs": [],
   "source": [
    "# Check for the split result\n",
    "#documents_train.head()\n",
    "#target_train.head()\n",
    "#documents_test.head()\n",
    "#target_test.head()"
   ]
  },
  {
   "cell_type": "markdown",
   "metadata": {},
   "source": [
    "## Let's get NLP representation of the documents"
   ]
  },
  {
   "cell_type": "code",
   "execution_count": 13,
   "metadata": {
    "collapsed": true
   },
   "outputs": [],
   "source": [
    "from sklearn.feature_extraction.text import TfidfVectorizer\n",
    "import nltk\n",
    "from nltk.tokenize import word_tokenize\n",
    "from nltk.corpus import stopwords"
   ]
  },
  {
   "cell_type": "code",
   "execution_count": 14,
   "metadata": {
    "collapsed": false
   },
   "outputs": [],
   "source": [
    "# Create TfidfVectorizer, and name it vectorizer\n",
    "vectorizer = TfidfVectorizer(stop_words='english', max_features=5000)"
   ]
  },
  {
   "cell_type": "code",
   "execution_count": 15,
   "metadata": {
    "collapsed": false
   },
   "outputs": [],
   "source": [
    "# Train the model with your training data\n",
    "vectors = vectorizer.fit_transform(documents_train).toarray()\n",
    "words = vectorizer.get_feature_names()"
   ]
  },
  {
   "cell_type": "code",
   "execution_count": 16,
   "metadata": {
    "collapsed": false
   },
   "outputs": [],
   "source": [
    "# Get the vocab of your tfidf\n",
    "words = vectorizer.get_feature_names()"
   ]
  },
  {
   "cell_type": "code",
   "execution_count": 17,
   "metadata": {
    "collapsed": true
   },
   "outputs": [],
   "source": [
    "# Use the trained model to transform your test data\n",
    "target_test_pred = vectorizer.transform(documents_test)"
   ]
  },
  {
   "cell_type": "markdown",
   "metadata": {},
   "source": [
    "## Similar review search engine"
   ]
  },
  {
   "cell_type": "code",
   "execution_count": 18,
   "metadata": {
    "collapsed": true
   },
   "outputs": [],
   "source": [
    "import numpy as np\n",
    "\n",
    "# We will need these helper methods pretty soon\n",
    "\n",
    "def get_top_values(lst, n, labels):\n",
    "    '''\n",
    "    INPUT: LIST, INTEGER, LIST\n",
    "    OUTPUT: LIST\n",
    "\n",
    "    Given a list of values, find the indices with the highest n values.\n",
    "    Return the labels for each of these indices.\n",
    "\n",
    "    e.g.\n",
    "    lst = [7, 3, 2, 4, 1]\n",
    "    n = 2\n",
    "    labels = [\"cat\", \"dog\", \"mouse\", \"pig\", \"rabbit\"]\n",
    "    output: [\"cat\", \"pig\"]\n",
    "    '''\n",
    "    return [labels[i] for i in np.argsort(lst)[::-1][:n]]  # np.argsort by default sorts values in ascending order\n",
    "\n",
    "def get_bottom_values(lst, n, labels):\n",
    "    '''\n",
    "    INPUT: LIST, INTEGER, LIST\n",
    "    OUTPUT: LIST\n",
    "\n",
    "    Given a list of values, find the indices with the lowest n values.\n",
    "    Return the labels for each of these indices.\n",
    "\n",
    "    e.g.\n",
    "    lst = [7, 3, 2, 4, 1]\n",
    "    n = 2\n",
    "    labels = [\"cat\", \"dog\", \"mouse\", \"pig\", \"rabbit\"]\n",
    "    output: [\"mouse\", \"rabbit\"]\n",
    "    '''\n",
    "    return [labels[i] for i in np.argsort(lst)[:n]]  # np.argsort by default sorts values in ascending order\n"
   ]
  },
  {
   "cell_type": "code",
   "execution_count": 19,
   "metadata": {
    "collapsed": true
   },
   "outputs": [],
   "source": [
    "# Let's use cosine similarity\n",
    "from sklearn.metrics.pairwise import cosine_similarity"
   ]
  },
  {
   "cell_type": "code",
   "execution_count": 20,
   "metadata": {
    "collapsed": false
   },
   "outputs": [],
   "source": [
    "# Draw an arbitrary review from test (unseen in training) documents\n",
    "index = np.random.randint(0, len(documents_test))\n",
    "pred = vectorizer.transform([documents_test[index]])"
   ]
  },
  {
   "cell_type": "code",
   "execution_count": 21,
   "metadata": {
    "collapsed": false
   },
   "outputs": [],
   "source": [
    "# Transform the drawn review(s) to vector(s)\n",
    "pred_matrix = pred.todense()"
   ]
  },
  {
   "cell_type": "code",
   "execution_count": 22,
   "metadata": {
    "collapsed": false
   },
   "outputs": [],
   "source": [
    "# Calculate the similarity score(s) between vector(s) and training vectors\n",
    "cos_similarity = cosine_similarity(pred_matrix, vectors)"
   ]
  },
  {
   "cell_type": "code",
   "execution_count": 23,
   "metadata": {
    "collapsed": false
   },
   "outputs": [
    {
     "data": {
      "text/plain": [
       "(1, 243611)"
      ]
     },
     "execution_count": 23,
     "metadata": {},
     "output_type": "execute_result"
    }
   ],
   "source": [
    "cos_similarity.shape"
   ]
  },
  {
   "cell_type": "code",
   "execution_count": 23,
   "metadata": {
    "collapsed": false
   },
   "outputs": [],
   "source": [
    "# Let's find top 5 similar reviews\n",
    "n = 5\n",
    "top5reviews = get_top_values(cos_similarity[0], n, documents_train)"
   ]
  },
  {
   "cell_type": "code",
   "execution_count": 24,
   "metadata": {
    "collapsed": false
   },
   "outputs": [
    {
     "name": "stdout",
     "output_type": "stream",
     "text": [
      "Our search query:\n",
      "Ordered a Beef Salad for delivery. It was wilted to shit and inedible. It also took an hour and 1/2 to get delivered. Avoid this place.\n"
     ]
    }
   ],
   "source": [
    "print 'Our search query:'\n",
    "print(documents_train[index])"
   ]
  },
  {
   "cell_type": "code",
   "execution_count": 25,
   "metadata": {
    "collapsed": false
   },
   "outputs": [
    {
     "name": "stdout",
     "output_type": "stream",
     "text": [
      "Most 5 similar reviews:\n",
      "['Great food! Authentic korean food! And free ice cream! must be here if you come to vegas!\\n\\nSteamed egg and kimchi is all good', \"The meat quality is unparalleled.  One of the best Korean bbq restaurants I've ever been to!\", 'great Korean style bbq in Las Vegas\\xef\\xbc\\x81great beef with sauce and side dishes. Steamed egg is perfect! But the digging sources are a little bit salty.', 'Best Korean food in Las Vegas! High quality meats! So many options and so delicious!!!!! Yummmmm!!!!!!!', 'I am always looking for authentic Korean BBQ places and this spot is my favorite by far! They have so many different options for sides (the steamed egg and ttekbokki are my favorites) as well as a delicious variety of meats. The happy hour is the best with 50% off drinks and discounted food options. Will continue to keep coming back!']\n"
     ]
    }
   ],
   "source": [
    "print 'Most %s similar reviews:' % n\n",
    "print(top5reviews)"
   ]
  },
  {
   "cell_type": "markdown",
   "metadata": {},
   "source": [
    "#### Q: Does the result make sense to you?"
   ]
  },
  {
   "cell_type": "markdown",
   "metadata": {},
   "source": [
    "A: (insert your comments here)"
   ]
  },
  {
   "cell_type": "markdown",
   "metadata": {},
   "source": [
    "## Classifying positive/negative review"
   ]
  },
  {
   "cell_type": "markdown",
   "metadata": {},
   "source": [
    "#### Naive-Bayes Classifier"
   ]
  },
  {
   "cell_type": "code",
   "execution_count": 26,
   "metadata": {
    "collapsed": false
   },
   "outputs": [
    {
     "data": {
      "text/plain": [
       "MultinomialNB(alpha=1.0, class_prior=None, fit_prior=True)"
      ]
     },
     "execution_count": 26,
     "metadata": {},
     "output_type": "execute_result"
    }
   ],
   "source": [
    "# Build a Naive-Bayes Classifier\n",
    "\n",
    "from sklearn.naive_bayes import MultinomialNB\n",
    "\n",
    "NaiveBayesModel = MultinomialNB()\n",
    "NaiveBayesModel.fit(vectors, target_train)"
   ]
  },
  {
   "cell_type": "code",
   "execution_count": 27,
   "metadata": {
    "collapsed": false
   },
   "outputs": [
    {
     "data": {
      "text/plain": [
       "0.80436023003887347"
      ]
     },
     "execution_count": 27,
     "metadata": {},
     "output_type": "execute_result"
    }
   ],
   "source": [
    "# Get score for training set\n",
    "NaiveBayesModel.score(vectors, target_train)"
   ]
  },
  {
   "cell_type": "code",
   "execution_count": 28,
   "metadata": {
    "collapsed": false
   },
   "outputs": [
    {
     "data": {
      "text/plain": [
       "0.80124515109429628"
      ]
     },
     "execution_count": 28,
     "metadata": {},
     "output_type": "execute_result"
    }
   ],
   "source": [
    "# Get score for test set\n",
    "matrix_test = vectorizer.transform(documents_test).toarray()\n",
    "NaiveBayesModel.score(matrix_test, target_test)"
   ]
  },
  {
   "cell_type": "markdown",
   "metadata": {},
   "source": [
    "#### Logistic Regression Classifier"
   ]
  },
  {
   "cell_type": "code",
   "execution_count": 29,
   "metadata": {
    "collapsed": false
   },
   "outputs": [
    {
     "data": {
      "text/plain": [
       "LogisticRegression(C=1.0, class_weight=None, dual=False, fit_intercept=True,\n",
       "          intercept_scaling=1, max_iter=100, multi_class='ovr', n_jobs=1,\n",
       "          penalty='l2', random_state=None, solver='liblinear', tol=0.0001,\n",
       "          verbose=0, warm_start=False)"
      ]
     },
     "execution_count": 29,
     "metadata": {},
     "output_type": "execute_result"
    }
   ],
   "source": [
    "# Build a Logistic Regression Classifier\n",
    "\n",
    "from sklearn.linear_model import LogisticRegression\n",
    "\n",
    "LogisticModel = LogisticRegression()\n",
    "LogisticModel.fit(vectors, target_train)"
   ]
  },
  {
   "cell_type": "code",
   "execution_count": 30,
   "metadata": {
    "collapsed": false
   },
   "outputs": [
    {
     "data": {
      "text/plain": [
       "0.83566013028968311"
      ]
     },
     "execution_count": 30,
     "metadata": {},
     "output_type": "execute_result"
    }
   ],
   "source": [
    "# Get score for training set\n",
    "LogisticModel.score(vectors, target_train)"
   ]
  },
  {
   "cell_type": "code",
   "execution_count": 31,
   "metadata": {
    "collapsed": false,
    "scrolled": true
   },
   "outputs": [
    {
     "data": {
      "text/plain": [
       "0.82630142234567305"
      ]
     },
     "execution_count": 31,
     "metadata": {},
     "output_type": "execute_result"
    }
   ],
   "source": [
    "# Get score for test set\n",
    "LogisticModel.score(matrix_test, target_test)"
   ]
  },
  {
   "cell_type": "markdown",
   "metadata": {},
   "source": [
    "#### Q: What are the key features(words) that make the positive prediction?"
   ]
  },
  {
   "cell_type": "code",
   "execution_count": 32,
   "metadata": {
    "collapsed": false
   },
   "outputs": [
    {
     "data": {
      "text/plain": [
       "[u'amazing',\n",
       " u'best',\n",
       " u'awesome',\n",
       " u'thank',\n",
       " u'incredible',\n",
       " u'delicious',\n",
       " u'perfect',\n",
       " u'phenomenal',\n",
       " u'fantastic',\n",
       " u'perfection',\n",
       " u'gem',\n",
       " u'excellent',\n",
       " u'fabulous',\n",
       " u'favorite',\n",
       " u'outstanding',\n",
       " u'highly',\n",
       " u'bomb',\n",
       " u'hands',\n",
       " u'perfectly',\n",
       " u'heaven']"
      ]
     },
     "execution_count": 32,
     "metadata": {},
     "output_type": "execute_result"
    }
   ],
   "source": [
    "# Let's find it out by ranking\n",
    "n = 20\n",
    "shape = LogisticModel.coef_.shape\n",
    "choose = LogisticModel.coef_ > 0\n",
    "label = np.array(words).reshape((1,len(words)))\n",
    "positive_coeff = LogisticModel.coef_[choose]\n",
    "positive_label = label[choose]\n",
    "get_top_values(positive_coeff, n, positive_label)"
   ]
  },
  {
   "cell_type": "markdown",
   "metadata": {},
   "source": [
    "A: (insert your comments here)"
   ]
  },
  {
   "cell_type": "markdown",
   "metadata": {},
   "source": [
    "#### Q: What are the key features(words) that make the negative prediction?"
   ]
  },
  {
   "cell_type": "code",
   "execution_count": 33,
   "metadata": {
    "collapsed": false
   },
   "outputs": [
    {
     "data": {
      "text/plain": [
       "[u'worst',\n",
       " u'horrible',\n",
       " u'bland',\n",
       " u'ok',\n",
       " u'rude',\n",
       " u'terrible',\n",
       " u'disappointing',\n",
       " u'mediocre',\n",
       " u'okay',\n",
       " u'lacked',\n",
       " u'lacking',\n",
       " u'slow',\n",
       " u'overpriced',\n",
       " u'poor',\n",
       " u'average',\n",
       " u'awful',\n",
       " u'disgusting',\n",
       " u'meh',\n",
       " u'worse',\n",
       " u'dry']"
      ]
     },
     "execution_count": 33,
     "metadata": {},
     "output_type": "execute_result"
    }
   ],
   "source": [
    "# Let's find it out by ranking\n",
    "n = 20\n",
    "shape = LogisticModel.coef_.shape\n",
    "choose = LogisticModel.coef_ < 0\n",
    "label = np.array(words).reshape((1,len(words)))\n",
    "negative_coeff = abs(LogisticModel.coef_[choose])\n",
    "negative_label = label[choose]\n",
    "get_top_values(negative_coeff, n, negative_label)"
   ]
  },
  {
   "cell_type": "markdown",
   "metadata": {},
   "source": [
    "A: (insert your comments here)"
   ]
  },
  {
   "cell_type": "markdown",
   "metadata": {},
   "source": [
    "#### Random Forest Classifier"
   ]
  },
  {
   "cell_type": "code",
   "execution_count": 34,
   "metadata": {
    "collapsed": false
   },
   "outputs": [
    {
     "data": {
      "text/plain": [
       "RandomForestClassifier(bootstrap=True, class_weight=None, criterion='gini',\n",
       "            max_depth=None, max_features='auto', max_leaf_nodes=None,\n",
       "            min_impurity_split=1e-07, min_samples_leaf=1,\n",
       "            min_samples_split=2, min_weight_fraction_leaf=0.0,\n",
       "            n_estimators=10, n_jobs=1, oob_score=False, random_state=None,\n",
       "            verbose=0, warm_start=False)"
      ]
     },
     "execution_count": 34,
     "metadata": {},
     "output_type": "execute_result"
    }
   ],
   "source": [
    "# Build a Random Forest Classifier\n",
    "\n",
    "from sklearn.ensemble import RandomForestClassifier\n",
    "\n",
    "RandomForestModel = RandomForestClassifier()\n",
    "RandomForestModel.fit(vectors, target_train)"
   ]
  },
  {
   "cell_type": "code",
   "execution_count": 35,
   "metadata": {
    "collapsed": false
   },
   "outputs": [
    {
     "data": {
      "text/plain": [
       "0.99036578808017706"
      ]
     },
     "execution_count": 35,
     "metadata": {},
     "output_type": "execute_result"
    }
   ],
   "source": [
    "# Get score for training set\n",
    "RandomForestModel.score(vectors, target_train)"
   ]
  },
  {
   "cell_type": "code",
   "execution_count": 36,
   "metadata": {
    "collapsed": false
   },
   "outputs": [
    {
     "data": {
      "text/plain": [
       "0.77141899334323072"
      ]
     },
     "execution_count": 36,
     "metadata": {},
     "output_type": "execute_result"
    }
   ],
   "source": [
    "# Get score for test set\n",
    "RandomForestModel.score(matrix_test, target_test)"
   ]
  },
  {
   "cell_type": "markdown",
   "metadata": {},
   "source": [
    "#### Q: What do you see from the training score and the test score?"
   ]
  },
  {
   "cell_type": "markdown",
   "metadata": {},
   "source": [
    "A: (insert your comments here)"
   ]
  },
  {
   "cell_type": "markdown",
   "metadata": {},
   "source": [
    "#### Q: Can you tell what features (words) are important by inspecting the RFC model?"
   ]
  },
  {
   "cell_type": "code",
   "execution_count": 37,
   "metadata": {
    "collapsed": false
   },
   "outputs": [
    {
     "data": {
      "text/plain": [
       "[u'best',\n",
       " u'amazing',\n",
       " u'great',\n",
       " u'delicious',\n",
       " u'ok',\n",
       " u'awesome',\n",
       " u'bad',\n",
       " u'good',\n",
       " u'love',\n",
       " u'vegas',\n",
       " u'favorite',\n",
       " u'place',\n",
       " u'wasn',\n",
       " u'didn',\n",
       " u'excellent',\n",
       " u'definitely',\n",
       " u'pretty',\n",
       " u'worst',\n",
       " u'friendly',\n",
       " u'highly']"
      ]
     },
     "execution_count": 37,
     "metadata": {},
     "output_type": "execute_result"
    }
   ],
   "source": [
    "n = 20\n",
    "get_top_values(RandomForestModel.feature_importances_, n, words)"
   ]
  },
  {
   "cell_type": "markdown",
   "metadata": {},
   "source": [
    "## Extra Credit #1: Use cross validation to evaluate your classifiers\n",
    "\n",
    "[sklearn cross validation](http://scikit-learn.org/stable/modules/cross_validation.html)"
   ]
  },
  {
   "cell_type": "code",
   "execution_count": 57,
   "metadata": {
    "collapsed": false
   },
   "outputs": [],
   "source": [
    "from sklearn.linear_model import LogisticRegression\n",
    "from sklearn.ensemble import RandomForestClassifier\n",
    "from sklearn.naive_bayes import MultinomialNB\n"
   ]
  },
  {
   "cell_type": "code",
   "execution_count": 58,
   "metadata": {
    "collapsed": false
   },
   "outputs": [
    {
     "name": "stdout",
     "output_type": "stream",
     "text": [
      "Logistic Regression Scores are 0.826592\n",
      "Random Forest Scores are 0.768910\n",
      "Naive Bayes Scores are 0.801450\n"
     ]
    }
   ],
   "source": [
    "# Find the best classifier\n",
    "from sklearn import cross_validation\n",
    "LR_Classifier = LogisticRegression()\n",
    "RF_Classifier = RandomForestClassifier()\n",
    "NB_Classifier = MultinomialNB()\n",
    "\n",
    "LR_Scores = cross_validation.cross_val_score(LR_Classifier, vectors, target_train, cv=5).mean()\n",
    "RF_Scores = cross_validation.cross_val_score(RF_Classifier, vectors, target_train, cv=5).mean()\n",
    "NB_Scores = cross_validation.cross_val_score(NB_Classifier, vectors, target_train, cv=5).mean()\n",
    "\n",
    "print(\"Logistic Regression Scores are %f\" % (LR_Scores))\n",
    "print(\"Random Forest Scores are %f\" % (RF_Scores))\n",
    "print(\"Naive Bayes Scores are %f\" % (NB_Scores))"
   ]
  },
  {
   "cell_type": "markdown",
   "metadata": {},
   "source": [
    "### Logistic Regression seems to be the best estimator"
   ]
  },
  {
   "cell_type": "markdown",
   "metadata": {},
   "source": [
    "## Extra Credit #2: Use grid search to find best predictable classifier\n",
    "\n",
    "\n",
    "[sklearn grid search tutorial (with cross validation)](http://scikit-learn.org/stable/modules/grid_search.html#grid-search)\n",
    "\n",
    "[sklearn grid search documentation (with cross validation)](http://scikit-learn.org/stable/modules/generated/sklearn.model_selection.GridSearchCV.html#sklearn.model_selection.GridSearchCV)"
   ]
  },
  {
   "cell_type": "code",
   "execution_count": 62,
   "metadata": {
    "collapsed": true
   },
   "outputs": [],
   "source": [
    "from sklearn.linear_model import LogisticRegression\n",
    "from sklearn.ensemble import RandomForestClassifier\n",
    "from sklearn.naive_bayes import MultinomialNB\n",
    "from sklearn.naive_bayes import BernoulliNB\n",
    "from sklearn.naive_bayes import GaussianNB\n",
    "from sklearn.model_selection import GridSearchCV  "
   ]
  },
  {
   "cell_type": "code",
   "execution_count": 64,
   "metadata": {
    "collapsed": false
   },
   "outputs": [
    {
     "name": "stdout",
     "output_type": "stream",
     "text": [
      "Multinomial Naive Bayes: Best parameters set found on development set:\n",
      "{'alpha': 4, 'fit_prior': True}\n"
     ]
    }
   ],
   "source": [
    "# Naive Bayes Family:\n",
    "# Multinomial Naive Bayes\n",
    "NB_param = {\"alpha\": [0.5, 1, 2, 4], \"fit_prior\": [True, False]}\n",
    "MN = MultinomialNB()\n",
    "MN_grid = GridSearchCV(MN, NB_param, cv=5)  \n",
    "MN_grid.fit(vectors, target_train)\n",
    "print(\"Multinomial Naive Bayes: Best parameters set found on development set:\")  \n",
    "print(MN_grid.best_params_)"
   ]
  },
  {
   "cell_type": "code",
   "execution_count": 65,
   "metadata": {
    "collapsed": false
   },
   "outputs": [
    {
     "name": "stdout",
     "output_type": "stream",
     "text": [
      "Bernoulli Naive Bayes: Best parameters set found on development set:\n",
      "{'alpha': 0.5, 'fit_prior': True}\n"
     ]
    }
   ],
   "source": [
    "# BernoulliNB Naive Bayes\n",
    "B = BernoulliNB()\n",
    "B_grid = GridSearchCV(B, NB_param, cv=5)\n",
    "B_grid.fit(vectors, target_train)\n",
    "print(\"Bernoulli Naive Bayes: Best parameters set found on development set:\")  \n",
    "print(B_grid.best_params_)"
   ]
  },
  {
   "cell_type": "code",
   "execution_count": 66,
   "metadata": {
    "collapsed": false
   },
   "outputs": [
    {
     "name": "stdout",
     "output_type": "stream",
     "text": [
      "Logistic Regression: Best parameters set found on development set:\n",
      "{'penalty': 'l1', 'C': 1, 'tol': 1e-05}\n"
     ]
    }
   ],
   "source": [
    "# Logistic Regression:\n",
    "LR_param = {\n",
    "    \"penalty\": [\"l1\", \"l2\"],\n",
    "    \"C\": [0.5,1,2,4],\n",
    "    \"tol\": [0.001,0.0001,0.00001]\n",
    "}\n",
    "LR = LogisticRegression()\n",
    "LR_grid = GridSearchCV(LR, LR_param, cv=5)\n",
    "LR_grid.fit(vectors, target_train)\n",
    "print(\"Logistic Regression: Best parameters set found on development set:\")  \n",
    "print(LR_grid.best_params_)"
   ]
  },
  {
   "cell_type": "code",
   "execution_count": 78,
   "metadata": {
    "collapsed": false
   },
   "outputs": [
    {
     "name": "stdout",
     "output_type": "stream",
     "text": [
      "Random Forest: Best parameters set found on development set:\n",
      "{'min_samples_split': 50, 'n_estimators': 70, 'criterion': 'entropy'}\n"
     ]
    }
   ],
   "source": [
    "# Random Forest:\n",
    "RF_param = {\n",
    "    \"n_estimators\": [30,50,70],\n",
    "    \"criterion\": [\"entropy\",\"gini\"],\n",
    "    \"min_samples_split\": [5,10,50,100],\n",
    "}\n",
    "RF = RandomForestClassifier(n_jobs=-1, random_state = 1)\n",
    "RF_grid = GridSearchCV(RF, RF_param, cv=5)\n",
    "RF_grid.fit(vectors, target_train)\n",
    "print(\"Random Forest: Best parameters set found on development set:\")  \n",
    "print(RF_grid.best_params_)"
   ]
  },
  {
   "cell_type": "code",
   "execution_count": 68,
   "metadata": {
    "collapsed": true
   },
   "outputs": [],
   "source": [
    "# Check the scores with best parameter set for each method:"
   ]
  },
  {
   "cell_type": "code",
   "execution_count": 69,
   "metadata": {
    "collapsed": false
   },
   "outputs": [
    {
     "name": "stdout",
     "output_type": "stream",
     "text": [
      "MiltiNomial Naive Bayes Score: 0.802172\n"
     ]
    }
   ],
   "source": [
    "# MultiNomial Naive Bayes Score\n",
    "MN = MultinomialNB(alpha = 4, fit_prior = True)\n",
    "MN_Scores = cross_validation.cross_val_score(MN, vectors, target_train, cv=5).mean()\n",
    "print(\"MiltiNomial Naive Bayes Score: %f\" % (MN_Scores))"
   ]
  },
  {
   "cell_type": "code",
   "execution_count": 70,
   "metadata": {
    "collapsed": false
   },
   "outputs": [
    {
     "name": "stdout",
     "output_type": "stream",
     "text": [
      "Gaussian Naive Bayes Score: 0.738809\n"
     ]
    }
   ],
   "source": [
    "# Gaussian Naive Bayes Score\n",
    "G = GaussianNB()\n",
    "G_Scores = cross_validation.cross_val_score(G, vectors, target_train, cv=5).mean()\n",
    "print(\"Gaussian Naive Bayes Score: %f\"% (G_Scores))"
   ]
  },
  {
   "cell_type": "code",
   "execution_count": 71,
   "metadata": {
    "collapsed": false
   },
   "outputs": [
    {
     "name": "stdout",
     "output_type": "stream",
     "text": [
      "Bernoulli Naive Bayes Score: 0.715624\n"
     ]
    }
   ],
   "source": [
    "# Bernoulli Naive Bayes Score\n",
    "B = BernoulliNB(alpha = 0.5, fit_prior = True)\n",
    "B_Scores = cross_validation.cross_val_score(B, vectors, target_train, cv=5).mean()\n",
    "print(\"Bernoulli Naive Bayes Score: %f\" % (B_Scores))"
   ]
  },
  {
   "cell_type": "code",
   "execution_count": 72,
   "metadata": {
    "collapsed": false
   },
   "outputs": [
    {
     "name": "stdout",
     "output_type": "stream",
     "text": [
      "Logistic Regression Score: 0.826781\n"
     ]
    }
   ],
   "source": [
    "# Logistic Regression\n",
    "LR = LogisticRegression(penalty=\"l1\", C = 1, tol = 0.00001)\n",
    "LR_Scores = cross_validation.cross_val_score(LR, vectors, target_train, cv=5).mean()\n",
    "print(\"Logistic Regression Score: %f\" % (LR_Scores))"
   ]
  },
  {
   "cell_type": "code",
   "execution_count": 79,
   "metadata": {
    "collapsed": false
   },
   "outputs": [
    {
     "name": "stdout",
     "output_type": "stream",
     "text": [
      "Random Forest Score: 0.801130\n"
     ]
    }
   ],
   "source": [
    "# Random Forest\n",
    "RF = RandomForestClassifier(min_samples_split = 50, n_estimators = 70, criterion='entropy')\n",
    "RF_Scores = cross_validation.cross_val_score(RF, vectors, target_train, cv=5).mean()\n",
    "print(\"Random Forest Score: %f\" % (RF_Scores))"
   ]
  },
  {
   "cell_type": "code",
   "execution_count": 80,
   "metadata": {
    "collapsed": false
   },
   "outputs": [
    {
     "name": "stdout",
     "output_type": "stream",
     "text": [
      "MiltiNomial Naive Bayes Score: 0.802172\n",
      "Gaussian Naive Bayes Score: 0.738809\n",
      "Bernoulli Naive Bayes Score: 0.715624\n",
      "Logistic Regression Score: 0.826781\n",
      "Random Forest Score: 0.801130\n",
      "Logistic Regression is the best\n"
     ]
    }
   ],
   "source": [
    "print(\"MiltiNomial Naive Bayes Score: %f\" % (MN_Scores))\n",
    "print(\"Gaussian Naive Bayes Score: %f\"% (G_Scores))\n",
    "print(\"Bernoulli Naive Bayes Score: %f\" % (B_Scores))\n",
    "print(\"Logistic Regression Score: %f\" % (LR_Scores))\n",
    "print(\"Random Forest Score: %f\" % (RF_Scores))\n",
    "maxScore = max(MN_Scores, max(G_Scores, max(B_Scores, max(LR_Scores, RF_Scores))))\n",
    "if maxScore == MN_Scores:\n",
    "    print('MultiNomial Naive Bayes is the best')\n",
    "elif maxScore == G_Scores:\n",
    "    print('Gaussian Naive Bayes is the best')\n",
    "elif maxScore == B_Scores:\n",
    "    print('Bernoulli Naive Bayes is the best')\n",
    "elif maxScore == LR_Scores:\n",
    "    print(\"Logistic Regression is the best\")\n",
    "else:\n",
    "    print(\"Random Forest is the best\")\n"
   ]
  },
  {
   "cell_type": "code",
   "execution_count": null,
   "metadata": {
    "collapsed": true
   },
   "outputs": [],
   "source": []
  }
 ],
 "metadata": {
  "anaconda-cloud": {},
  "kernelspec": {
   "display_name": "Python 2",
   "language": "python",
   "name": "python2"
  },
  "language_info": {
   "codemirror_mode": {
    "name": "ipython",
    "version": 2
   },
   "file_extension": ".py",
   "mimetype": "text/x-python",
   "name": "python",
   "nbconvert_exporter": "python",
   "pygments_lexer": "ipython2",
   "version": "2.7.12"
  }
 },
 "nbformat": 4,
 "nbformat_minor": 1
}
